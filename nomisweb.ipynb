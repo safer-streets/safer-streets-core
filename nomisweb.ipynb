{
 "cells": [
  {
   "cell_type": "markdown",
   "id": "83befd2d",
   "metadata": {},
   "source": [
    "# NomisWeb\n",
    "\n",
    "It was a massive PITA tracking down these codes...\n",
    "\n",
    "- TYPE150: 2021 output areas within England and Wales\n",
    "- TYPE151: 2021 super output areas - lower layer within England and Wales\n",
    "- TYPE152: 2021 super output areas - middle layer within England and Wales\n",
    "- TYPE153: 2022 wards within England and Wales\n",
    "- TYPE154: 2022 local authorities: districts within England and Wales\n",
    "- TYPE155: 2022 local authorities: counties within England and Wales\n",
    "- TYPE168: 2021 national parks within England and Wales\n",
    "- TYPE423: local authorities: county / unitary (as of April 2023) within England and Wales\n",
    "- TYPE424: local authorities: district / unitary (as of April 2023) within England and Wales\n",
    "- TYPE459: local enterprise partnerships (as of April 2021) within England and Wales\n",
    "- TYPE480: regions within England and Wales\n"
   ]
  },
  {
   "cell_type": "code",
   "execution_count": 4,
   "id": "19fd5eec",
   "metadata": {},
   "outputs": [
    {
     "name": "stdout",
     "output_type": "stream",
     "text": [
      "The autoreload extension is already loaded. To reload it, use:\n",
      "  %reload_ext autoreload\n"
     ]
    }
   ],
   "source": [
    "%load_ext autoreload\n",
    "%autoreload 2"
   ]
  },
  {
   "cell_type": "code",
   "execution_count": 5,
   "id": "780b8c57",
   "metadata": {},
   "outputs": [],
   "source": [
    "from pathlib import Path\n",
    "\n",
    "import numpy as np\n",
    "import pandas as pd\n",
    "\n",
    "from nomisweb import FieldMetadata, TableMetadata, build_geog_query, fetch, fetch_table\n",
    "from utils import extract_crime_data"
   ]
  },
  {
   "cell_type": "code",
   "execution_count": 6,
   "id": "c9f1784c",
   "metadata": {},
   "outputs": [
    {
     "data": {
      "application/vnd.microsoft.datawrangler.viewer.v0+json": {
       "columns": [
        {
         "name": "NomisCode",
         "rawType": "int64",
         "type": "integer"
        },
        {
         "name": "Description",
         "rawType": "object",
         "type": "string"
        },
        {
         "name": "TypeName",
         "rawType": "object",
         "type": "string"
        },
        {
         "name": "TypeCode",
         "rawType": "int64",
         "type": "integer"
        },
        {
         "name": "GeogCode",
         "rawType": "object",
         "type": "string"
        }
       ],
       "ref": "333cac11-914f-45e6-82a4-742de1ac8b5b",
       "rows": [
        [
         "2092957703",
         "England and Wales",
         "countries",
         "499",
         "K04000001"
        ],
        [
         "2092957699",
         "England",
         "countries",
         "499",
         "E92000001"
        ],
        [
         "2092957700",
         "Wales",
         "countries",
         "499",
         "W92000004"
        ]
       ],
       "shape": {
        "columns": 4,
        "rows": 3
       }
      },
      "text/html": [
       "<div>\n",
       "<style scoped>\n",
       "    .dataframe tbody tr th:only-of-type {\n",
       "        vertical-align: middle;\n",
       "    }\n",
       "\n",
       "    .dataframe tbody tr th {\n",
       "        vertical-align: top;\n",
       "    }\n",
       "\n",
       "    .dataframe thead th {\n",
       "        text-align: right;\n",
       "    }\n",
       "</style>\n",
       "<table border=\"1\" class=\"dataframe\">\n",
       "  <thead>\n",
       "    <tr style=\"text-align: right;\">\n",
       "      <th></th>\n",
       "      <th>Description</th>\n",
       "      <th>TypeName</th>\n",
       "      <th>TypeCode</th>\n",
       "      <th>GeogCode</th>\n",
       "    </tr>\n",
       "    <tr>\n",
       "      <th>NomisCode</th>\n",
       "      <th></th>\n",
       "      <th></th>\n",
       "      <th></th>\n",
       "      <th></th>\n",
       "    </tr>\n",
       "  </thead>\n",
       "  <tbody>\n",
       "    <tr>\n",
       "      <th>2092957703</th>\n",
       "      <td>England and Wales</td>\n",
       "      <td>countries</td>\n",
       "      <td>499</td>\n",
       "      <td>K04000001</td>\n",
       "    </tr>\n",
       "    <tr>\n",
       "      <th>2092957699</th>\n",
       "      <td>England</td>\n",
       "      <td>countries</td>\n",
       "      <td>499</td>\n",
       "      <td>E92000001</td>\n",
       "    </tr>\n",
       "    <tr>\n",
       "      <th>2092957700</th>\n",
       "      <td>Wales</td>\n",
       "      <td>countries</td>\n",
       "      <td>499</td>\n",
       "      <td>W92000004</td>\n",
       "    </tr>\n",
       "  </tbody>\n",
       "</table>\n",
       "</div>"
      ],
      "text/plain": [
       "                  Description   TypeName  TypeCode   GeogCode\n",
       "NomisCode                                                    \n",
       "2092957703  England and Wales  countries       499  K04000001\n",
       "2092957699            England  countries       499  E92000001\n",
       "2092957700              Wales  countries       499  W92000004"
      ]
     },
     "execution_count": 6,
     "metadata": {},
     "output_type": "execute_result"
    }
   ],
   "source": [
    "table_name = \"NM_2041_1\"  # random 2021 census table - age, ethnicity, sex\n",
    "\n",
    "top_level_geogs = FieldMetadata(**fetch(f\"dataset/{table_name}/geography.def.sdmx.json\"))\n",
    "top_level_geogs.to_dataframe()"
   ]
  },
  {
   "cell_type": "code",
   "execution_count": 7,
   "id": "bc775339",
   "metadata": {},
   "outputs": [
    {
     "data": {
      "application/vnd.microsoft.datawrangler.viewer.v0+json": {
       "columns": [
        {
         "name": "NomisCode",
         "rawType": "object",
         "type": "unknown"
        },
        {
         "name": "Description",
         "rawType": "object",
         "type": "string"
        },
        {
         "name": "TypeName",
         "rawType": "object",
         "type": "string"
        },
        {
         "name": "TypeCode",
         "rawType": "int64",
         "type": "integer"
        },
        {
         "name": "GeogCode",
         "rawType": "object",
         "type": "unknown"
        },
        {
         "name": "IsAbstractCode",
         "rawType": "object",
         "type": "unknown"
        },
        {
         "name": "ParentCode",
         "rawType": "float64",
         "type": "float"
        },
        {
         "name": "ChildCount",
         "rawType": "float64",
         "type": "float"
        }
       ],
       "ref": "288b7e7f-8b0c-4e3f-893b-f418577ed7d2",
       "rows": [
        [
         "2092957703",
         "England and Wales",
         "countries",
         "499",
         "K04000001",
         null,
         null,
         null
        ],
        [
         "2092957703TYPE150",
         "2021 output areas within England and Wales",
         "2021 output areas",
         "150",
         null,
         "True",
         "2092957703.0",
         "188880.0"
        ],
        [
         "2092957703TYPE151",
         "2021 super output areas - lower layer within England and Wales",
         "2021 super output areas - lower layer",
         "151",
         null,
         "True",
         "2092957703.0",
         "35672.0"
        ],
        [
         "2092957703TYPE152",
         "2021 super output areas - middle layer within England and Wales",
         "2021 super output areas - middle layer",
         "152",
         null,
         "True",
         "2092957703.0",
         "7264.0"
        ],
        [
         "2092957703TYPE153",
         "2022 wards within England and Wales",
         "2022 wards",
         "153",
         null,
         "True",
         "2092957703.0",
         "7638.0"
        ],
        [
         "2092957703TYPE154",
         "2022 local authorities: districts within England and Wales",
         "2022 local authorities: districts",
         "154",
         null,
         "True",
         "2092957703.0",
         "331.0"
        ],
        [
         "2092957703TYPE155",
         "2022 local authorities: counties within England and Wales",
         "2022 local authorities: counties",
         "155",
         null,
         "True",
         "2092957703.0",
         "174.0"
        ],
        [
         "2092957703TYPE168",
         "2021 national parks within England and Wales",
         "2021 national parks",
         "168",
         null,
         "True",
         "2092957703.0",
         "13.0"
        ],
        [
         "2092957703TYPE423",
         "local authorities: county / unitary (as of April 2023) within England and Wales",
         "local authorities: county / unitary (as of April 2023)",
         "423",
         null,
         "True",
         "2092957703.0",
         "175.0"
        ],
        [
         "2092957703TYPE424",
         "local authorities: district / unitary (as of April 2023) within England and Wales",
         "local authorities: district / unitary (as of April 2023)",
         "424",
         null,
         "True",
         "2092957703.0",
         "318.0"
        ],
        [
         "2092957703TYPE459",
         "local enterprise partnerships (as of April 2021) within England and Wales",
         "local enterprise partnerships (as of April 2021)",
         "459",
         null,
         "True",
         "2092957703.0",
         "38.0"
        ],
        [
         "2092957703TYPE480",
         "regions within England and Wales",
         "regions",
         "480",
         null,
         "True",
         "2092957703.0",
         "10.0"
        ]
       ],
       "shape": {
        "columns": 7,
        "rows": 12
       }
      },
      "text/html": [
       "<div>\n",
       "<style scoped>\n",
       "    .dataframe tbody tr th:only-of-type {\n",
       "        vertical-align: middle;\n",
       "    }\n",
       "\n",
       "    .dataframe tbody tr th {\n",
       "        vertical-align: top;\n",
       "    }\n",
       "\n",
       "    .dataframe thead th {\n",
       "        text-align: right;\n",
       "    }\n",
       "</style>\n",
       "<table border=\"1\" class=\"dataframe\">\n",
       "  <thead>\n",
       "    <tr style=\"text-align: right;\">\n",
       "      <th></th>\n",
       "      <th>Description</th>\n",
       "      <th>TypeName</th>\n",
       "      <th>TypeCode</th>\n",
       "      <th>GeogCode</th>\n",
       "      <th>IsAbstractCode</th>\n",
       "      <th>ParentCode</th>\n",
       "      <th>ChildCount</th>\n",
       "    </tr>\n",
       "    <tr>\n",
       "      <th>NomisCode</th>\n",
       "      <th></th>\n",
       "      <th></th>\n",
       "      <th></th>\n",
       "      <th></th>\n",
       "      <th></th>\n",
       "      <th></th>\n",
       "      <th></th>\n",
       "    </tr>\n",
       "  </thead>\n",
       "  <tbody>\n",
       "    <tr>\n",
       "      <th>2092957703</th>\n",
       "      <td>England and Wales</td>\n",
       "      <td>countries</td>\n",
       "      <td>499</td>\n",
       "      <td>K04000001</td>\n",
       "      <td>NaN</td>\n",
       "      <td>NaN</td>\n",
       "      <td>NaN</td>\n",
       "    </tr>\n",
       "    <tr>\n",
       "      <th>2092957703TYPE150</th>\n",
       "      <td>2021 output areas within England and Wales</td>\n",
       "      <td>2021 output areas</td>\n",
       "      <td>150</td>\n",
       "      <td>NaN</td>\n",
       "      <td>True</td>\n",
       "      <td>2.092958e+09</td>\n",
       "      <td>188880.0</td>\n",
       "    </tr>\n",
       "    <tr>\n",
       "      <th>2092957703TYPE151</th>\n",
       "      <td>2021 super output areas - lower layer within E...</td>\n",
       "      <td>2021 super output areas - lower layer</td>\n",
       "      <td>151</td>\n",
       "      <td>NaN</td>\n",
       "      <td>True</td>\n",
       "      <td>2.092958e+09</td>\n",
       "      <td>35672.0</td>\n",
       "    </tr>\n",
       "    <tr>\n",
       "      <th>2092957703TYPE152</th>\n",
       "      <td>2021 super output areas - middle layer within ...</td>\n",
       "      <td>2021 super output areas - middle layer</td>\n",
       "      <td>152</td>\n",
       "      <td>NaN</td>\n",
       "      <td>True</td>\n",
       "      <td>2.092958e+09</td>\n",
       "      <td>7264.0</td>\n",
       "    </tr>\n",
       "    <tr>\n",
       "      <th>2092957703TYPE153</th>\n",
       "      <td>2022 wards within England and Wales</td>\n",
       "      <td>2022 wards</td>\n",
       "      <td>153</td>\n",
       "      <td>NaN</td>\n",
       "      <td>True</td>\n",
       "      <td>2.092958e+09</td>\n",
       "      <td>7638.0</td>\n",
       "    </tr>\n",
       "    <tr>\n",
       "      <th>2092957703TYPE154</th>\n",
       "      <td>2022 local authorities: districts within Engla...</td>\n",
       "      <td>2022 local authorities: districts</td>\n",
       "      <td>154</td>\n",
       "      <td>NaN</td>\n",
       "      <td>True</td>\n",
       "      <td>2.092958e+09</td>\n",
       "      <td>331.0</td>\n",
       "    </tr>\n",
       "    <tr>\n",
       "      <th>2092957703TYPE155</th>\n",
       "      <td>2022 local authorities: counties within Englan...</td>\n",
       "      <td>2022 local authorities: counties</td>\n",
       "      <td>155</td>\n",
       "      <td>NaN</td>\n",
       "      <td>True</td>\n",
       "      <td>2.092958e+09</td>\n",
       "      <td>174.0</td>\n",
       "    </tr>\n",
       "    <tr>\n",
       "      <th>2092957703TYPE168</th>\n",
       "      <td>2021 national parks within England and Wales</td>\n",
       "      <td>2021 national parks</td>\n",
       "      <td>168</td>\n",
       "      <td>NaN</td>\n",
       "      <td>True</td>\n",
       "      <td>2.092958e+09</td>\n",
       "      <td>13.0</td>\n",
       "    </tr>\n",
       "    <tr>\n",
       "      <th>2092957703TYPE423</th>\n",
       "      <td>local authorities: county / unitary (as of Apr...</td>\n",
       "      <td>local authorities: county / unitary (as of Apr...</td>\n",
       "      <td>423</td>\n",
       "      <td>NaN</td>\n",
       "      <td>True</td>\n",
       "      <td>2.092958e+09</td>\n",
       "      <td>175.0</td>\n",
       "    </tr>\n",
       "    <tr>\n",
       "      <th>2092957703TYPE424</th>\n",
       "      <td>local authorities: district / unitary (as of A...</td>\n",
       "      <td>local authorities: district / unitary (as of A...</td>\n",
       "      <td>424</td>\n",
       "      <td>NaN</td>\n",
       "      <td>True</td>\n",
       "      <td>2.092958e+09</td>\n",
       "      <td>318.0</td>\n",
       "    </tr>\n",
       "    <tr>\n",
       "      <th>2092957703TYPE459</th>\n",
       "      <td>local enterprise partnerships (as of April 202...</td>\n",
       "      <td>local enterprise partnerships (as of April 2021)</td>\n",
       "      <td>459</td>\n",
       "      <td>NaN</td>\n",
       "      <td>True</td>\n",
       "      <td>2.092958e+09</td>\n",
       "      <td>38.0</td>\n",
       "    </tr>\n",
       "    <tr>\n",
       "      <th>2092957703TYPE480</th>\n",
       "      <td>regions within England and Wales</td>\n",
       "      <td>regions</td>\n",
       "      <td>480</td>\n",
       "      <td>NaN</td>\n",
       "      <td>True</td>\n",
       "      <td>2.092958e+09</td>\n",
       "      <td>10.0</td>\n",
       "    </tr>\n",
       "  </tbody>\n",
       "</table>\n",
       "</div>"
      ],
      "text/plain": [
       "                                                         Description  \\\n",
       "NomisCode                                                              \n",
       "2092957703                                         England and Wales   \n",
       "2092957703TYPE150         2021 output areas within England and Wales   \n",
       "2092957703TYPE151  2021 super output areas - lower layer within E...   \n",
       "2092957703TYPE152  2021 super output areas - middle layer within ...   \n",
       "2092957703TYPE153                2022 wards within England and Wales   \n",
       "2092957703TYPE154  2022 local authorities: districts within Engla...   \n",
       "2092957703TYPE155  2022 local authorities: counties within Englan...   \n",
       "2092957703TYPE168       2021 national parks within England and Wales   \n",
       "2092957703TYPE423  local authorities: county / unitary (as of Apr...   \n",
       "2092957703TYPE424  local authorities: district / unitary (as of A...   \n",
       "2092957703TYPE459  local enterprise partnerships (as of April 202...   \n",
       "2092957703TYPE480                   regions within England and Wales   \n",
       "\n",
       "                                                            TypeName  \\\n",
       "NomisCode                                                              \n",
       "2092957703                                                 countries   \n",
       "2092957703TYPE150                                  2021 output areas   \n",
       "2092957703TYPE151              2021 super output areas - lower layer   \n",
       "2092957703TYPE152             2021 super output areas - middle layer   \n",
       "2092957703TYPE153                                         2022 wards   \n",
       "2092957703TYPE154                  2022 local authorities: districts   \n",
       "2092957703TYPE155                   2022 local authorities: counties   \n",
       "2092957703TYPE168                                2021 national parks   \n",
       "2092957703TYPE423  local authorities: county / unitary (as of Apr...   \n",
       "2092957703TYPE424  local authorities: district / unitary (as of A...   \n",
       "2092957703TYPE459   local enterprise partnerships (as of April 2021)   \n",
       "2092957703TYPE480                                            regions   \n",
       "\n",
       "                   TypeCode   GeogCode IsAbstractCode    ParentCode  \\\n",
       "NomisCode                                                             \n",
       "2092957703              499  K04000001            NaN           NaN   \n",
       "2092957703TYPE150       150        NaN           True  2.092958e+09   \n",
       "2092957703TYPE151       151        NaN           True  2.092958e+09   \n",
       "2092957703TYPE152       152        NaN           True  2.092958e+09   \n",
       "2092957703TYPE153       153        NaN           True  2.092958e+09   \n",
       "2092957703TYPE154       154        NaN           True  2.092958e+09   \n",
       "2092957703TYPE155       155        NaN           True  2.092958e+09   \n",
       "2092957703TYPE168       168        NaN           True  2.092958e+09   \n",
       "2092957703TYPE423       423        NaN           True  2.092958e+09   \n",
       "2092957703TYPE424       424        NaN           True  2.092958e+09   \n",
       "2092957703TYPE459       459        NaN           True  2.092958e+09   \n",
       "2092957703TYPE480       480        NaN           True  2.092958e+09   \n",
       "\n",
       "                   ChildCount  \n",
       "NomisCode                      \n",
       "2092957703                NaN  \n",
       "2092957703TYPE150    188880.0  \n",
       "2092957703TYPE151     35672.0  \n",
       "2092957703TYPE152      7264.0  \n",
       "2092957703TYPE153      7638.0  \n",
       "2092957703TYPE154       331.0  \n",
       "2092957703TYPE155       174.0  \n",
       "2092957703TYPE168        13.0  \n",
       "2092957703TYPE423       175.0  \n",
       "2092957703TYPE424       318.0  \n",
       "2092957703TYPE459        38.0  \n",
       "2092957703TYPE480        10.0  "
      ]
     },
     "execution_count": 7,
     "metadata": {},
     "output_type": "execute_result"
    }
   ],
   "source": [
    "# list the available geography types\n",
    "ew_geog_types = FieldMetadata(**fetch(f\"dataset/{table_name}/geography/2092957703.def.sdmx.json\"))\n",
    "ew_geog_types.to_dataframe()"
   ]
  },
  {
   "cell_type": "code",
   "execution_count": 8,
   "id": "6213ee48",
   "metadata": {},
   "outputs": [
    {
     "data": {
      "application/vnd.microsoft.datawrangler.viewer.v0+json": {
       "columns": [
        {
         "name": "NomisCode",
         "rawType": "int64",
         "type": "integer"
        },
        {
         "name": "Description",
         "rawType": "object",
         "type": "string"
        },
        {
         "name": "TypeName",
         "rawType": "object",
         "type": "string"
        },
        {
         "name": "TypeCode",
         "rawType": "int64",
         "type": "integer"
        },
        {
         "name": "GeogCode",
         "rawType": "object",
         "type": "string"
        }
       ],
       "ref": "ffa00ee8-94b2-469f-8bc1-e70fef112ca8",
       "rows": [
        [
         "645922819",
         "Hartlepool",
         "2022 local authorities: districts",
         "154",
         "E06000001"
        ],
        [
         "645922820",
         "Middlesbrough",
         "2022 local authorities: districts",
         "154",
         "E06000002"
        ],
        [
         "645922822",
         "Redcar and Cleveland",
         "2022 local authorities: districts",
         "154",
         "E06000003"
        ],
        [
         "645922823",
         "Stockton-on-Tees",
         "2022 local authorities: districts",
         "154",
         "E06000004"
        ],
        [
         "645922817",
         "Darlington",
         "2022 local authorities: districts",
         "154",
         "E06000005"
        ],
        [
         "645922818",
         "County Durham",
         "2022 local authorities: districts",
         "154",
         "E06000047"
        ],
        [
         "645922821",
         "Northumberland",
         "2022 local authorities: districts",
         "154",
         "E06000057"
        ],
        [
         "645922825",
         "Newcastle upon Tyne",
         "2022 local authorities: districts",
         "154",
         "E08000021"
        ],
        [
         "645922826",
         "North Tyneside",
         "2022 local authorities: districts",
         "154",
         "E08000022"
        ],
        [
         "645922827",
         "South Tyneside",
         "2022 local authorities: districts",
         "154",
         "E08000023"
        ],
        [
         "645922828",
         "Sunderland",
         "2022 local authorities: districts",
         "154",
         "E08000024"
        ],
        [
         "645922824",
         "Gateshead",
         "2022 local authorities: districts",
         "154",
         "E08000037"
        ],
        [
         "645922833",
         "Halton",
         "2022 local authorities: districts",
         "154",
         "E06000006"
        ],
        [
         "645922834",
         "Warrington",
         "2022 local authorities: districts",
         "154",
         "E06000007"
        ],
        [
         "645922829",
         "Blackburn with Darwen",
         "2022 local authorities: districts",
         "154",
         "E06000008"
        ],
        [
         "645922830",
         "Blackpool",
         "2022 local authorities: districts",
         "154",
         "E06000009"
        ],
        [
         "645922831",
         "Cheshire East",
         "2022 local authorities: districts",
         "154",
         "E06000049"
        ],
        [
         "645922832",
         "Cheshire West and Chester",
         "2022 local authorities: districts",
         "154",
         "E06000050"
        ],
        [
         "645922835",
         "Allerdale",
         "2022 local authorities: districts",
         "154",
         "E07000026"
        ],
        [
         "645922836",
         "Barrow-in-Furness",
         "2022 local authorities: districts",
         "154",
         "E07000027"
        ],
        [
         "645922837",
         "Carlisle",
         "2022 local authorities: districts",
         "154",
         "E07000028"
        ],
        [
         "645922838",
         "Copeland",
         "2022 local authorities: districts",
         "154",
         "E07000029"
        ],
        [
         "645922839",
         "Eden",
         "2022 local authorities: districts",
         "154",
         "E07000030"
        ],
        [
         "645922840",
         "South Lakeland",
         "2022 local authorities: districts",
         "154",
         "E07000031"
        ],
        [
         "645922851",
         "Burnley",
         "2022 local authorities: districts",
         "154",
         "E07000117"
        ],
        [
         "645922852",
         "Chorley",
         "2022 local authorities: districts",
         "154",
         "E07000118"
        ],
        [
         "645922853",
         "Fylde",
         "2022 local authorities: districts",
         "154",
         "E07000119"
        ],
        [
         "645922854",
         "Hyndburn",
         "2022 local authorities: districts",
         "154",
         "E07000120"
        ],
        [
         "645922855",
         "Lancaster",
         "2022 local authorities: districts",
         "154",
         "E07000121"
        ],
        [
         "645922856",
         "Pendle",
         "2022 local authorities: districts",
         "154",
         "E07000122"
        ],
        [
         "645922857",
         "Preston",
         "2022 local authorities: districts",
         "154",
         "E07000123"
        ],
        [
         "645922858",
         "Ribble Valley",
         "2022 local authorities: districts",
         "154",
         "E07000124"
        ],
        [
         "645922859",
         "Rossendale",
         "2022 local authorities: districts",
         "154",
         "E07000125"
        ],
        [
         "645922860",
         "South Ribble",
         "2022 local authorities: districts",
         "154",
         "E07000126"
        ],
        [
         "645922861",
         "West Lancashire",
         "2022 local authorities: districts",
         "154",
         "E07000127"
        ],
        [
         "645922862",
         "Wyre",
         "2022 local authorities: districts",
         "154",
         "E07000128"
        ],
        [
         "645922841",
         "Bolton",
         "2022 local authorities: districts",
         "154",
         "E08000001"
        ],
        [
         "645922842",
         "Bury",
         "2022 local authorities: districts",
         "154",
         "E08000002"
        ],
        [
         "645922843",
         "Manchester",
         "2022 local authorities: districts",
         "154",
         "E08000003"
        ],
        [
         "645922844",
         "Oldham",
         "2022 local authorities: districts",
         "154",
         "E08000004"
        ],
        [
         "645922845",
         "Rochdale",
         "2022 local authorities: districts",
         "154",
         "E08000005"
        ],
        [
         "645922846",
         "Salford",
         "2022 local authorities: districts",
         "154",
         "E08000006"
        ],
        [
         "645922847",
         "Stockport",
         "2022 local authorities: districts",
         "154",
         "E08000007"
        ],
        [
         "645922848",
         "Tameside",
         "2022 local authorities: districts",
         "154",
         "E08000008"
        ],
        [
         "645922849",
         "Trafford",
         "2022 local authorities: districts",
         "154",
         "E08000009"
        ],
        [
         "645922850",
         "Wigan",
         "2022 local authorities: districts",
         "154",
         "E08000010"
        ],
        [
         "645922863",
         "Knowsley",
         "2022 local authorities: districts",
         "154",
         "E08000011"
        ],
        [
         "645922864",
         "Liverpool",
         "2022 local authorities: districts",
         "154",
         "E08000012"
        ],
        [
         "645922866",
         "St. Helens",
         "2022 local authorities: districts",
         "154",
         "E08000013"
        ],
        [
         "645922865",
         "Sefton",
         "2022 local authorities: districts",
         "154",
         "E08000014"
        ]
       ],
       "shape": {
        "columns": 4,
        "rows": 331
       }
      },
      "text/html": [
       "<div>\n",
       "<style scoped>\n",
       "    .dataframe tbody tr th:only-of-type {\n",
       "        vertical-align: middle;\n",
       "    }\n",
       "\n",
       "    .dataframe tbody tr th {\n",
       "        vertical-align: top;\n",
       "    }\n",
       "\n",
       "    .dataframe thead th {\n",
       "        text-align: right;\n",
       "    }\n",
       "</style>\n",
       "<table border=\"1\" class=\"dataframe\">\n",
       "  <thead>\n",
       "    <tr style=\"text-align: right;\">\n",
       "      <th></th>\n",
       "      <th>Description</th>\n",
       "      <th>TypeName</th>\n",
       "      <th>TypeCode</th>\n",
       "      <th>GeogCode</th>\n",
       "    </tr>\n",
       "    <tr>\n",
       "      <th>NomisCode</th>\n",
       "      <th></th>\n",
       "      <th></th>\n",
       "      <th></th>\n",
       "      <th></th>\n",
       "    </tr>\n",
       "  </thead>\n",
       "  <tbody>\n",
       "    <tr>\n",
       "      <th>645922819</th>\n",
       "      <td>Hartlepool</td>\n",
       "      <td>2022 local authorities: districts</td>\n",
       "      <td>154</td>\n",
       "      <td>E06000001</td>\n",
       "    </tr>\n",
       "    <tr>\n",
       "      <th>645922820</th>\n",
       "      <td>Middlesbrough</td>\n",
       "      <td>2022 local authorities: districts</td>\n",
       "      <td>154</td>\n",
       "      <td>E06000002</td>\n",
       "    </tr>\n",
       "    <tr>\n",
       "      <th>645922822</th>\n",
       "      <td>Redcar and Cleveland</td>\n",
       "      <td>2022 local authorities: districts</td>\n",
       "      <td>154</td>\n",
       "      <td>E06000003</td>\n",
       "    </tr>\n",
       "    <tr>\n",
       "      <th>645922823</th>\n",
       "      <td>Stockton-on-Tees</td>\n",
       "      <td>2022 local authorities: districts</td>\n",
       "      <td>154</td>\n",
       "      <td>E06000004</td>\n",
       "    </tr>\n",
       "    <tr>\n",
       "      <th>645922817</th>\n",
       "      <td>Darlington</td>\n",
       "      <td>2022 local authorities: districts</td>\n",
       "      <td>154</td>\n",
       "      <td>E06000005</td>\n",
       "    </tr>\n",
       "    <tr>\n",
       "      <th>...</th>\n",
       "      <td>...</td>\n",
       "      <td>...</td>\n",
       "      <td>...</td>\n",
       "      <td>...</td>\n",
       "    </tr>\n",
       "    <tr>\n",
       "      <th>645923145</th>\n",
       "      <td>Torfaen</td>\n",
       "      <td>2022 local authorities: districts</td>\n",
       "      <td>154</td>\n",
       "      <td>W06000020</td>\n",
       "    </tr>\n",
       "    <tr>\n",
       "      <th>645923146</th>\n",
       "      <td>Monmouthshire</td>\n",
       "      <td>2022 local authorities: districts</td>\n",
       "      <td>154</td>\n",
       "      <td>W06000021</td>\n",
       "    </tr>\n",
       "    <tr>\n",
       "      <th>645923147</th>\n",
       "      <td>Newport</td>\n",
       "      <td>2022 local authorities: districts</td>\n",
       "      <td>154</td>\n",
       "      <td>W06000022</td>\n",
       "    </tr>\n",
       "    <tr>\n",
       "      <th>645923132</th>\n",
       "      <td>Powys</td>\n",
       "      <td>2022 local authorities: districts</td>\n",
       "      <td>154</td>\n",
       "      <td>W06000023</td>\n",
       "    </tr>\n",
       "    <tr>\n",
       "      <th>645923142</th>\n",
       "      <td>Merthyr Tydfil</td>\n",
       "      <td>2022 local authorities: districts</td>\n",
       "      <td>154</td>\n",
       "      <td>W06000024</td>\n",
       "    </tr>\n",
       "  </tbody>\n",
       "</table>\n",
       "<p>331 rows × 4 columns</p>\n",
       "</div>"
      ],
      "text/plain": [
       "                    Description                           TypeName  TypeCode  \\\n",
       "NomisCode                                                                      \n",
       "645922819            Hartlepool  2022 local authorities: districts       154   \n",
       "645922820         Middlesbrough  2022 local authorities: districts       154   \n",
       "645922822  Redcar and Cleveland  2022 local authorities: districts       154   \n",
       "645922823      Stockton-on-Tees  2022 local authorities: districts       154   \n",
       "645922817            Darlington  2022 local authorities: districts       154   \n",
       "...                         ...                                ...       ...   \n",
       "645923145               Torfaen  2022 local authorities: districts       154   \n",
       "645923146         Monmouthshire  2022 local authorities: districts       154   \n",
       "645923147               Newport  2022 local authorities: districts       154   \n",
       "645923132                 Powys  2022 local authorities: districts       154   \n",
       "645923142        Merthyr Tydfil  2022 local authorities: districts       154   \n",
       "\n",
       "            GeogCode  \n",
       "NomisCode             \n",
       "645922819  E06000001  \n",
       "645922820  E06000002  \n",
       "645922822  E06000003  \n",
       "645922823  E06000004  \n",
       "645922817  E06000005  \n",
       "...              ...  \n",
       "645923145  W06000020  \n",
       "645923146  W06000021  \n",
       "645923147  W06000022  \n",
       "645923132  W06000023  \n",
       "645923142  W06000024  \n",
       "\n",
       "[331 rows x 4 columns]"
      ]
     },
     "execution_count": 8,
     "metadata": {},
     "output_type": "execute_result"
    }
   ],
   "source": [
    "# list specific geographies of a given type\n",
    "ew_lads = FieldMetadata(**fetch(f\"dataset/{table_name}/geography/2092957703TYPE154.def.sdmx.json\"))\n",
    "ew_lads.to_dataframe()"
   ]
  },
  {
   "cell_type": "code",
   "execution_count": 9,
   "id": "8f64ed52",
   "metadata": {},
   "outputs": [
    {
     "data": {
      "application/vnd.microsoft.datawrangler.viewer.v0+json": {
       "columns": [
        {
         "name": "GeogCode",
         "rawType": "object",
         "type": "string"
        },
        {
         "name": "NomisCode",
         "rawType": "int64",
         "type": "integer"
        },
        {
         "name": "TypeName",
         "rawType": "object",
         "type": "string"
        },
        {
         "name": "TypeCode",
         "rawType": "int64",
         "type": "integer"
        }
       ],
       "ref": "d7fa8e79-55a6-440a-9ba5-f73df35f7784",
       "rows": [
        [
         "E00060274",
         "629202434",
         "2021 output areas",
         "150"
        ],
        [
         "E00060275",
         "629202435",
         "2021 output areas",
         "150"
        ],
        [
         "E00060276",
         "629202436",
         "2021 output areas",
         "150"
        ],
        [
         "E00060277",
         "629202437",
         "2021 output areas",
         "150"
        ],
        [
         "E00060279",
         "629202439",
         "2021 output areas",
         "150"
        ],
        [
         "E00060280",
         "629202440",
         "2021 output areas",
         "150"
        ],
        [
         "E00060290",
         "629202450",
         "2021 output areas",
         "150"
        ],
        [
         "E00060364",
         "629202521",
         "2021 output areas",
         "150"
        ],
        [
         "E00060367",
         "629202524",
         "2021 output areas",
         "150"
        ],
        [
         "E00060368",
         "629202525",
         "2021 output areas",
         "150"
        ],
        [
         "E00060369",
         "629202526",
         "2021 output areas",
         "150"
        ],
        [
         "E00060371",
         "629202528",
         "2021 output areas",
         "150"
        ],
        [
         "E00060362",
         "629202519",
         "2021 output areas",
         "150"
        ],
        [
         "E00060363",
         "629202520",
         "2021 output areas",
         "150"
        ],
        [
         "E00060365",
         "629202522",
         "2021 output areas",
         "150"
        ],
        [
         "E00060366",
         "629202523",
         "2021 output areas",
         "150"
        ],
        [
         "E00060370",
         "629202527",
         "2021 output areas",
         "150"
        ],
        [
         "E00060372",
         "629202529",
         "2021 output areas",
         "150"
        ],
        [
         "E00060374",
         "629202531",
         "2021 output areas",
         "150"
        ],
        [
         "E00060376",
         "629202533",
         "2021 output areas",
         "150"
        ],
        [
         "E00060373",
         "629202530",
         "2021 output areas",
         "150"
        ],
        [
         "E00174092",
         "629309122",
         "2021 output areas",
         "150"
        ],
        [
         "E00174093",
         "629309123",
         "2021 output areas",
         "150"
        ],
        [
         "E00174094",
         "629309124",
         "2021 output areas",
         "150"
        ],
        [
         "E00174100",
         "629309129",
         "2021 output areas",
         "150"
        ],
        [
         "E00174102",
         "629309131",
         "2021 output areas",
         "150"
        ],
        [
         "E00060375",
         "629202532",
         "2021 output areas",
         "150"
        ],
        [
         "E00060377",
         "629202534",
         "2021 output areas",
         "150"
        ],
        [
         "E00174098",
         "629309128",
         "2021 output areas",
         "150"
        ],
        [
         "E00174101",
         "629309130",
         "2021 output areas",
         "150"
        ],
        [
         "E00188243",
         "629321854",
         "2021 output areas",
         "150"
        ],
        [
         "E00188304",
         "629321915",
         "2021 output areas",
         "150"
        ],
        [
         "E00188318",
         "629321929",
         "2021 output areas",
         "150"
        ],
        [
         "E00188332",
         "629321943",
         "2021 output areas",
         "150"
        ],
        [
         "E00060283",
         "629202443",
         "2021 output areas",
         "150"
        ],
        [
         "E00060284",
         "629202444",
         "2021 output areas",
         "150"
        ],
        [
         "E00060287",
         "629202447",
         "2021 output areas",
         "150"
        ],
        [
         "E00060288",
         "629202448",
         "2021 output areas",
         "150"
        ],
        [
         "E00060289",
         "629202449",
         "2021 output areas",
         "150"
        ],
        [
         "E00060273",
         "629202433",
         "2021 output areas",
         "150"
        ],
        [
         "E00060278",
         "629202438",
         "2021 output areas",
         "150"
        ],
        [
         "E00060281",
         "629202441",
         "2021 output areas",
         "150"
        ],
        [
         "E00060282",
         "629202442",
         "2021 output areas",
         "150"
        ],
        [
         "E00060285",
         "629202445",
         "2021 output areas",
         "150"
        ],
        [
         "E00060286",
         "629202446",
         "2021 output areas",
         "150"
        ],
        [
         "E00060484",
         "629202634",
         "2021 output areas",
         "150"
        ],
        [
         "E00060486",
         "629202636",
         "2021 output areas",
         "150"
        ],
        [
         "E00060489",
         "629202639",
         "2021 output areas",
         "150"
        ],
        [
         "E00060490",
         "629202640",
         "2021 output areas",
         "150"
        ],
        [
         "E00060491",
         "629202641",
         "2021 output areas",
         "150"
        ]
       ],
       "shape": {
        "columns": 3,
        "rows": 240516
       }
      },
      "text/html": [
       "<div>\n",
       "<style scoped>\n",
       "    .dataframe tbody tr th:only-of-type {\n",
       "        vertical-align: middle;\n",
       "    }\n",
       "\n",
       "    .dataframe tbody tr th {\n",
       "        vertical-align: top;\n",
       "    }\n",
       "\n",
       "    .dataframe thead th {\n",
       "        text-align: right;\n",
       "    }\n",
       "</style>\n",
       "<table border=\"1\" class=\"dataframe\">\n",
       "  <thead>\n",
       "    <tr style=\"text-align: right;\">\n",
       "      <th></th>\n",
       "      <th>NomisCode</th>\n",
       "      <th>TypeName</th>\n",
       "      <th>TypeCode</th>\n",
       "    </tr>\n",
       "    <tr>\n",
       "      <th>GeogCode</th>\n",
       "      <th></th>\n",
       "      <th></th>\n",
       "      <th></th>\n",
       "    </tr>\n",
       "  </thead>\n",
       "  <tbody>\n",
       "    <tr>\n",
       "      <th>E00060274</th>\n",
       "      <td>629202434</td>\n",
       "      <td>2021 output areas</td>\n",
       "      <td>150</td>\n",
       "    </tr>\n",
       "    <tr>\n",
       "      <th>E00060275</th>\n",
       "      <td>629202435</td>\n",
       "      <td>2021 output areas</td>\n",
       "      <td>150</td>\n",
       "    </tr>\n",
       "    <tr>\n",
       "      <th>E00060276</th>\n",
       "      <td>629202436</td>\n",
       "      <td>2021 output areas</td>\n",
       "      <td>150</td>\n",
       "    </tr>\n",
       "    <tr>\n",
       "      <th>E00060277</th>\n",
       "      <td>629202437</td>\n",
       "      <td>2021 output areas</td>\n",
       "      <td>150</td>\n",
       "    </tr>\n",
       "    <tr>\n",
       "      <th>E00060279</th>\n",
       "      <td>629202439</td>\n",
       "      <td>2021 output areas</td>\n",
       "      <td>150</td>\n",
       "    </tr>\n",
       "    <tr>\n",
       "      <th>...</th>\n",
       "      <td>...</td>\n",
       "      <td>...</td>\n",
       "      <td>...</td>\n",
       "    </tr>\n",
       "    <tr>\n",
       "      <th>E12000009</th>\n",
       "      <td>2013265929</td>\n",
       "      <td>regions</td>\n",
       "      <td>480</td>\n",
       "    </tr>\n",
       "    <tr>\n",
       "      <th>W92000004</th>\n",
       "      <td>2013265930</td>\n",
       "      <td>regions</td>\n",
       "      <td>480</td>\n",
       "    </tr>\n",
       "    <tr>\n",
       "      <th>K04000001</th>\n",
       "      <td>2092957703</td>\n",
       "      <td>countries</td>\n",
       "      <td>499</td>\n",
       "    </tr>\n",
       "    <tr>\n",
       "      <th>E92000001</th>\n",
       "      <td>2092957699</td>\n",
       "      <td>countries</td>\n",
       "      <td>499</td>\n",
       "    </tr>\n",
       "    <tr>\n",
       "      <th>W92000004</th>\n",
       "      <td>2092957700</td>\n",
       "      <td>countries</td>\n",
       "      <td>499</td>\n",
       "    </tr>\n",
       "  </tbody>\n",
       "</table>\n",
       "<p>240516 rows × 3 columns</p>\n",
       "</div>"
      ],
      "text/plain": [
       "            NomisCode           TypeName  TypeCode\n",
       "GeogCode                                          \n",
       "E00060274   629202434  2021 output areas       150\n",
       "E00060275   629202435  2021 output areas       150\n",
       "E00060276   629202436  2021 output areas       150\n",
       "E00060277   629202437  2021 output areas       150\n",
       "E00060279   629202439  2021 output areas       150\n",
       "...               ...                ...       ...\n",
       "E12000009  2013265929            regions       480\n",
       "W92000004  2013265930            regions       480\n",
       "K04000001  2092957703          countries       499\n",
       "E92000001  2092957699          countries       499\n",
       "W92000004  2092957700          countries       499\n",
       "\n",
       "[240516 rows x 3 columns]"
      ]
     },
     "execution_count": 9,
     "metadata": {},
     "output_type": "execute_result"
    }
   ],
   "source": [
    "# codelist endpoint will give every supported geography for a given table (cached as its large)\n",
    "geog_df = Path(\"./data/census2021geographies.parquet\")\n",
    "if not geog_df.exists():\n",
    "    # seems like codelist endpoints dont like api keys\n",
    "    all_geogs = FieldMetadata(**fetch(\"codelist/CL_2041_1_GEOGRAPHY.def.sdmx.json\")).to_dataframe()\n",
    "    all_geogs.to_parquet(geog_df)\n",
    "else:\n",
    "    all_geogs = pd.read_parquet(geog_df)\n",
    "\n",
    "all_geogs  # .TypeName.value_counts()"
   ]
  },
  {
   "cell_type": "markdown",
   "id": "30adf965",
   "metadata": {},
   "source": [
    "## Get table metadata"
   ]
  },
  {
   "cell_type": "code",
   "execution_count": 10,
   "id": "636ea5b3",
   "metadata": {},
   "outputs": [
    {
     "name": "stdout",
     "output_type": "stream",
     "text": [
      "Status Current (being actively updated)\n",
      "Keywords Ethnic group\n",
      "Units Persons\n",
      "contenttype/sources census_2021_ts\n",
      "contenttype/geoglevel oa2021,lsoa2021,msoa2021,la2021,ward2021,oa,msoa,la\n",
      "SubDescription All usual residents\n",
      "Mnemonic c2021ts021\n",
      "FirstReleased 2022-11-29 09:30:00\n",
      "LastUpdated 2022-11-29 11:30:00\n",
      "LastRevised 2022-11-29 11:30:00\n",
      "MetadataTitle0 About this dataset\n",
      "MetadataText0 This dataset provides Census 2021 estimates that classify usual residents in England and Wales by ethnic group. The estimates are as at Census Day, 21 March 2021.\n",
      "   \n",
      "   National Park data are created by plotting unique properties as identified by their Unique Property Reference Number or postcodes into National Park boundaries current at December 2022. This differs from the OA best fit methodology used for other geographic level data.\n",
      "MetadataTitle1 Protecting personal data\n",
      "MetadataText1 Sometimes we need to make changes to data if it is possible to identify individuals. This is known as statistical disclosure control. In Census 2021, we:\n",
      "\n",
      "* Swapped records (targeted record swapping), for example, if a household was likely to be identified in datasets because it has unusual characteristics, we swapped the record with a similar one from a nearby small area. Very unusual households could be swapped with one in a nearby local authority.\n",
      "* Added small changes to some counts (cell key perturbation), for example, we might change a count of four to a three or a five. This might make small differences between tables depending on how the data are broken down when we applied perturbation.\n",
      "MetadataCount 2\n"
     ]
    }
   ],
   "source": [
    "metadata = TableMetadata(**fetch(f\"dataset/{table_name}.def.sdmx.json\"))\n",
    "\n",
    "# table info\n",
    "for a in metadata.structure.keyfamilies.keyfamily[0].annotations.annotation:\n",
    "    print(a.annotationtitle, a.annotationtext)"
   ]
  },
  {
   "cell_type": "code",
   "execution_count": 11,
   "id": "dd3d0de7",
   "metadata": {},
   "outputs": [
    {
     "data": {
      "text/plain": [
       "{'GEOGRAPHY': {'codelist': 'CL_2041_1_GEOGRAPHY'},\n",
       " 'C2021_ETH_20': {'codelist': 'CL_2041_1_C2021_ETH_20'},\n",
       " 'MEASURES': {'codelist': 'CL_2041_1_MEASURES'},\n",
       " 'FREQ': {'codelist': 'CL_2041_1_FREQ'}}"
      ]
     },
     "execution_count": 11,
     "metadata": {},
     "output_type": "execute_result"
    }
   ],
   "source": [
    "fields = {\n",
    "    a.conceptref: {\"codelist\": a.codelist} for a in metadata.structure.keyfamilies.keyfamily[0].components.dimension\n",
    "}\n",
    "fields"
   ]
  },
  {
   "cell_type": "code",
   "execution_count": 12,
   "id": "0e3c943f",
   "metadata": {},
   "outputs": [],
   "source": [
    "# get metadata for each field\n",
    "for field_name, metadata in fields.items():\n",
    "    if field_name == \"GEOGRAPHY\":\n",
    "        continue\n",
    "\n",
    "    metadata[\"values\"] = FieldMetadata(**fetch(f\"codelist/{metadata['codelist']}.def.sdmx.json\")).to_dataframe()"
   ]
  },
  {
   "cell_type": "code",
   "execution_count": 13,
   "id": "30da614c",
   "metadata": {},
   "outputs": [
    {
     "data": {
      "application/vnd.microsoft.datawrangler.viewer.v0+json": {
       "columns": [
        {
         "name": "NomisCode",
         "rawType": "int64",
         "type": "integer"
        },
        {
         "name": "Description",
         "rawType": "object",
         "type": "string"
        },
        {
         "name": "ChildCount",
         "rawType": "float64",
         "type": "float"
        },
        {
         "name": "FirstChildCode",
         "rawType": "float64",
         "type": "float"
        },
        {
         "name": "FirstChildTypeCode",
         "rawType": "float64",
         "type": "float"
        },
        {
         "name": "IsTotal",
         "rawType": "object",
         "type": "unknown"
        },
        {
         "name": "IsDefault",
         "rawType": "object",
         "type": "unknown"
        },
        {
         "name": "TypeName",
         "rawType": "object",
         "type": "string"
        },
        {
         "name": "TypeCode",
         "rawType": "int64",
         "type": "integer"
        },
        {
         "name": "Level",
         "rawType": "int64",
         "type": "integer"
        },
        {
         "name": "isDerived",
         "rawType": "object",
         "type": "unknown"
        },
        {
         "name": "DisplayName",
         "rawType": "object",
         "type": "unknown"
        }
       ],
       "ref": "dc6fdb32-0550-46d3-95d5-1129b0a7a864",
       "rows": [
        [
         "0",
         "Total: All usual residents",
         "5.0",
         "1001.0",
         "1000000.0",
         "True",
         "True",
         "Ethnic group",
         "1000000",
         "0",
         null,
         null
        ],
        [
         "1001",
         "Asian, Asian British or Asian Welsh",
         "5.0",
         "12.0",
         "1000000.0",
         null,
         null,
         "Ethnic group",
         "1000000",
         "1",
         "True",
         null
        ],
        [
         "12",
         "Asian, Asian British or Asian Welsh: Bangladeshi",
         null,
         null,
         null,
         null,
         null,
         "Ethnic group",
         "1000000",
         "2",
         null,
         "Bangladeshi"
        ],
        [
         "13",
         "Asian, Asian British or Asian Welsh: Chinese",
         null,
         null,
         null,
         null,
         null,
         "Ethnic group",
         "1000000",
         "2",
         null,
         "Chinese"
        ],
        [
         "10",
         "Asian, Asian British or Asian Welsh: Indian",
         null,
         null,
         null,
         null,
         null,
         "Ethnic group",
         "1000000",
         "2",
         null,
         "Indian"
        ],
        [
         "11",
         "Asian, Asian British or Asian Welsh: Pakistani",
         null,
         null,
         null,
         null,
         null,
         "Ethnic group",
         "1000000",
         "2",
         null,
         "Pakistani"
        ],
        [
         "14",
         "Asian, Asian British or Asian Welsh: Other Asian",
         null,
         null,
         null,
         null,
         null,
         "Ethnic group",
         "1000000",
         "2",
         null,
         "Other Asian"
        ],
        [
         "1002",
         "Black, Black British, Black Welsh, Caribbean or African",
         "3.0",
         "16.0",
         "1000000.0",
         null,
         null,
         "Ethnic group",
         "1000000",
         "1",
         "True",
         null
        ],
        [
         "16",
         "Black, Black British, Black Welsh, Caribbean or African: African",
         null,
         null,
         null,
         null,
         null,
         "Ethnic group",
         "1000000",
         "2",
         null,
         "African"
        ],
        [
         "15",
         "Black, Black British, Black Welsh, Caribbean or African: Caribbean",
         null,
         null,
         null,
         null,
         null,
         "Ethnic group",
         "1000000",
         "2",
         null,
         "Caribbean"
        ],
        [
         "17",
         "Black, Black British, Black Welsh, Caribbean or African: Other Black",
         null,
         null,
         null,
         null,
         null,
         "Ethnic group",
         "1000000",
         "2",
         null,
         "Other Black"
        ],
        [
         "1003",
         "Mixed or Multiple ethnic groups",
         "4.0",
         "8.0",
         "1000000.0",
         null,
         null,
         "Ethnic group",
         "1000000",
         "1",
         "True",
         null
        ],
        [
         "8",
         "Mixed or Multiple ethnic groups: White and Asian",
         null,
         null,
         null,
         null,
         null,
         "Ethnic group",
         "1000000",
         "2",
         null,
         "White and Asian"
        ],
        [
         "7",
         "Mixed or Multiple ethnic groups: White and Black African",
         null,
         null,
         null,
         null,
         null,
         "Ethnic group",
         "1000000",
         "2",
         null,
         "White and Black African"
        ],
        [
         "6",
         "Mixed or Multiple ethnic groups: White and Black Caribbean",
         null,
         null,
         null,
         null,
         null,
         "Ethnic group",
         "1000000",
         "2",
         null,
         "White and Black Caribbean"
        ],
        [
         "9",
         "Mixed or Multiple ethnic groups: Other Mixed or Multiple ethnic groups",
         null,
         null,
         null,
         null,
         null,
         "Ethnic group",
         "1000000",
         "2",
         null,
         "Other Mixed or Multiple ethnic groups"
        ],
        [
         "1004",
         "White",
         "5.0",
         "1.0",
         "1000000.0",
         null,
         null,
         "Ethnic group",
         "1000000",
         "1",
         "True",
         null
        ],
        [
         "1",
         "White: English, Welsh, Scottish, Northern Irish or British",
         null,
         null,
         null,
         null,
         null,
         "Ethnic group",
         "1000000",
         "2",
         null,
         "English, Welsh, Scottish, Northern Irish or British"
        ],
        [
         "2",
         "White: Irish",
         null,
         null,
         null,
         null,
         null,
         "Ethnic group",
         "1000000",
         "2",
         null,
         "Irish"
        ],
        [
         "3",
         "White: Gypsy or Irish Traveller",
         null,
         null,
         null,
         null,
         null,
         "Ethnic group",
         "1000000",
         "2",
         null,
         "Gypsy or Irish Traveller"
        ],
        [
         "4",
         "White: Roma",
         null,
         null,
         null,
         null,
         null,
         "Ethnic group",
         "1000000",
         "2",
         null,
         "Roma"
        ],
        [
         "5",
         "White: Other White",
         null,
         null,
         null,
         null,
         null,
         "Ethnic group",
         "1000000",
         "2",
         null,
         "Other White"
        ],
        [
         "1005",
         "Other ethnic group",
         "2.0",
         "18.0",
         "1000000.0",
         null,
         null,
         "Ethnic group",
         "1000000",
         "1",
         "True",
         null
        ],
        [
         "18",
         "Other ethnic group: Arab",
         null,
         null,
         null,
         null,
         null,
         "Ethnic group",
         "1000000",
         "2",
         null,
         "Arab"
        ],
        [
         "19",
         "Other ethnic group: Any other ethnic group",
         null,
         null,
         null,
         null,
         null,
         "Ethnic group",
         "1000000",
         "2",
         null,
         "Any other ethnic group"
        ]
       ],
       "shape": {
        "columns": 11,
        "rows": 25
       }
      },
      "text/html": [
       "<div>\n",
       "<style scoped>\n",
       "    .dataframe tbody tr th:only-of-type {\n",
       "        vertical-align: middle;\n",
       "    }\n",
       "\n",
       "    .dataframe tbody tr th {\n",
       "        vertical-align: top;\n",
       "    }\n",
       "\n",
       "    .dataframe thead th {\n",
       "        text-align: right;\n",
       "    }\n",
       "</style>\n",
       "<table border=\"1\" class=\"dataframe\">\n",
       "  <thead>\n",
       "    <tr style=\"text-align: right;\">\n",
       "      <th></th>\n",
       "      <th>Description</th>\n",
       "      <th>ChildCount</th>\n",
       "      <th>FirstChildCode</th>\n",
       "      <th>FirstChildTypeCode</th>\n",
       "      <th>IsTotal</th>\n",
       "      <th>IsDefault</th>\n",
       "      <th>TypeName</th>\n",
       "      <th>TypeCode</th>\n",
       "      <th>Level</th>\n",
       "      <th>isDerived</th>\n",
       "      <th>DisplayName</th>\n",
       "    </tr>\n",
       "    <tr>\n",
       "      <th>NomisCode</th>\n",
       "      <th></th>\n",
       "      <th></th>\n",
       "      <th></th>\n",
       "      <th></th>\n",
       "      <th></th>\n",
       "      <th></th>\n",
       "      <th></th>\n",
       "      <th></th>\n",
       "      <th></th>\n",
       "      <th></th>\n",
       "      <th></th>\n",
       "    </tr>\n",
       "  </thead>\n",
       "  <tbody>\n",
       "    <tr>\n",
       "      <th>0</th>\n",
       "      <td>Total: All usual residents</td>\n",
       "      <td>5.0</td>\n",
       "      <td>1001.0</td>\n",
       "      <td>1000000.0</td>\n",
       "      <td>True</td>\n",
       "      <td>True</td>\n",
       "      <td>Ethnic group</td>\n",
       "      <td>1000000</td>\n",
       "      <td>0</td>\n",
       "      <td>NaN</td>\n",
       "      <td>NaN</td>\n",
       "    </tr>\n",
       "    <tr>\n",
       "      <th>1001</th>\n",
       "      <td>Asian, Asian British or Asian Welsh</td>\n",
       "      <td>5.0</td>\n",
       "      <td>12.0</td>\n",
       "      <td>1000000.0</td>\n",
       "      <td>NaN</td>\n",
       "      <td>NaN</td>\n",
       "      <td>Ethnic group</td>\n",
       "      <td>1000000</td>\n",
       "      <td>1</td>\n",
       "      <td>True</td>\n",
       "      <td>NaN</td>\n",
       "    </tr>\n",
       "    <tr>\n",
       "      <th>12</th>\n",
       "      <td>Asian, Asian British or Asian Welsh: Bangladeshi</td>\n",
       "      <td>NaN</td>\n",
       "      <td>NaN</td>\n",
       "      <td>NaN</td>\n",
       "      <td>NaN</td>\n",
       "      <td>NaN</td>\n",
       "      <td>Ethnic group</td>\n",
       "      <td>1000000</td>\n",
       "      <td>2</td>\n",
       "      <td>NaN</td>\n",
       "      <td>Bangladeshi</td>\n",
       "    </tr>\n",
       "    <tr>\n",
       "      <th>13</th>\n",
       "      <td>Asian, Asian British or Asian Welsh: Chinese</td>\n",
       "      <td>NaN</td>\n",
       "      <td>NaN</td>\n",
       "      <td>NaN</td>\n",
       "      <td>NaN</td>\n",
       "      <td>NaN</td>\n",
       "      <td>Ethnic group</td>\n",
       "      <td>1000000</td>\n",
       "      <td>2</td>\n",
       "      <td>NaN</td>\n",
       "      <td>Chinese</td>\n",
       "    </tr>\n",
       "    <tr>\n",
       "      <th>10</th>\n",
       "      <td>Asian, Asian British or Asian Welsh: Indian</td>\n",
       "      <td>NaN</td>\n",
       "      <td>NaN</td>\n",
       "      <td>NaN</td>\n",
       "      <td>NaN</td>\n",
       "      <td>NaN</td>\n",
       "      <td>Ethnic group</td>\n",
       "      <td>1000000</td>\n",
       "      <td>2</td>\n",
       "      <td>NaN</td>\n",
       "      <td>Indian</td>\n",
       "    </tr>\n",
       "    <tr>\n",
       "      <th>11</th>\n",
       "      <td>Asian, Asian British or Asian Welsh: Pakistani</td>\n",
       "      <td>NaN</td>\n",
       "      <td>NaN</td>\n",
       "      <td>NaN</td>\n",
       "      <td>NaN</td>\n",
       "      <td>NaN</td>\n",
       "      <td>Ethnic group</td>\n",
       "      <td>1000000</td>\n",
       "      <td>2</td>\n",
       "      <td>NaN</td>\n",
       "      <td>Pakistani</td>\n",
       "    </tr>\n",
       "    <tr>\n",
       "      <th>14</th>\n",
       "      <td>Asian, Asian British or Asian Welsh: Other Asian</td>\n",
       "      <td>NaN</td>\n",
       "      <td>NaN</td>\n",
       "      <td>NaN</td>\n",
       "      <td>NaN</td>\n",
       "      <td>NaN</td>\n",
       "      <td>Ethnic group</td>\n",
       "      <td>1000000</td>\n",
       "      <td>2</td>\n",
       "      <td>NaN</td>\n",
       "      <td>Other Asian</td>\n",
       "    </tr>\n",
       "    <tr>\n",
       "      <th>1002</th>\n",
       "      <td>Black, Black British, Black Welsh, Caribbean o...</td>\n",
       "      <td>3.0</td>\n",
       "      <td>16.0</td>\n",
       "      <td>1000000.0</td>\n",
       "      <td>NaN</td>\n",
       "      <td>NaN</td>\n",
       "      <td>Ethnic group</td>\n",
       "      <td>1000000</td>\n",
       "      <td>1</td>\n",
       "      <td>True</td>\n",
       "      <td>NaN</td>\n",
       "    </tr>\n",
       "    <tr>\n",
       "      <th>16</th>\n",
       "      <td>Black, Black British, Black Welsh, Caribbean o...</td>\n",
       "      <td>NaN</td>\n",
       "      <td>NaN</td>\n",
       "      <td>NaN</td>\n",
       "      <td>NaN</td>\n",
       "      <td>NaN</td>\n",
       "      <td>Ethnic group</td>\n",
       "      <td>1000000</td>\n",
       "      <td>2</td>\n",
       "      <td>NaN</td>\n",
       "      <td>African</td>\n",
       "    </tr>\n",
       "    <tr>\n",
       "      <th>15</th>\n",
       "      <td>Black, Black British, Black Welsh, Caribbean o...</td>\n",
       "      <td>NaN</td>\n",
       "      <td>NaN</td>\n",
       "      <td>NaN</td>\n",
       "      <td>NaN</td>\n",
       "      <td>NaN</td>\n",
       "      <td>Ethnic group</td>\n",
       "      <td>1000000</td>\n",
       "      <td>2</td>\n",
       "      <td>NaN</td>\n",
       "      <td>Caribbean</td>\n",
       "    </tr>\n",
       "    <tr>\n",
       "      <th>17</th>\n",
       "      <td>Black, Black British, Black Welsh, Caribbean o...</td>\n",
       "      <td>NaN</td>\n",
       "      <td>NaN</td>\n",
       "      <td>NaN</td>\n",
       "      <td>NaN</td>\n",
       "      <td>NaN</td>\n",
       "      <td>Ethnic group</td>\n",
       "      <td>1000000</td>\n",
       "      <td>2</td>\n",
       "      <td>NaN</td>\n",
       "      <td>Other Black</td>\n",
       "    </tr>\n",
       "    <tr>\n",
       "      <th>1003</th>\n",
       "      <td>Mixed or Multiple ethnic groups</td>\n",
       "      <td>4.0</td>\n",
       "      <td>8.0</td>\n",
       "      <td>1000000.0</td>\n",
       "      <td>NaN</td>\n",
       "      <td>NaN</td>\n",
       "      <td>Ethnic group</td>\n",
       "      <td>1000000</td>\n",
       "      <td>1</td>\n",
       "      <td>True</td>\n",
       "      <td>NaN</td>\n",
       "    </tr>\n",
       "    <tr>\n",
       "      <th>8</th>\n",
       "      <td>Mixed or Multiple ethnic groups: White and Asian</td>\n",
       "      <td>NaN</td>\n",
       "      <td>NaN</td>\n",
       "      <td>NaN</td>\n",
       "      <td>NaN</td>\n",
       "      <td>NaN</td>\n",
       "      <td>Ethnic group</td>\n",
       "      <td>1000000</td>\n",
       "      <td>2</td>\n",
       "      <td>NaN</td>\n",
       "      <td>White and Asian</td>\n",
       "    </tr>\n",
       "    <tr>\n",
       "      <th>7</th>\n",
       "      <td>Mixed or Multiple ethnic groups: White and Bla...</td>\n",
       "      <td>NaN</td>\n",
       "      <td>NaN</td>\n",
       "      <td>NaN</td>\n",
       "      <td>NaN</td>\n",
       "      <td>NaN</td>\n",
       "      <td>Ethnic group</td>\n",
       "      <td>1000000</td>\n",
       "      <td>2</td>\n",
       "      <td>NaN</td>\n",
       "      <td>White and Black African</td>\n",
       "    </tr>\n",
       "    <tr>\n",
       "      <th>6</th>\n",
       "      <td>Mixed or Multiple ethnic groups: White and Bla...</td>\n",
       "      <td>NaN</td>\n",
       "      <td>NaN</td>\n",
       "      <td>NaN</td>\n",
       "      <td>NaN</td>\n",
       "      <td>NaN</td>\n",
       "      <td>Ethnic group</td>\n",
       "      <td>1000000</td>\n",
       "      <td>2</td>\n",
       "      <td>NaN</td>\n",
       "      <td>White and Black Caribbean</td>\n",
       "    </tr>\n",
       "    <tr>\n",
       "      <th>9</th>\n",
       "      <td>Mixed or Multiple ethnic groups: Other Mixed o...</td>\n",
       "      <td>NaN</td>\n",
       "      <td>NaN</td>\n",
       "      <td>NaN</td>\n",
       "      <td>NaN</td>\n",
       "      <td>NaN</td>\n",
       "      <td>Ethnic group</td>\n",
       "      <td>1000000</td>\n",
       "      <td>2</td>\n",
       "      <td>NaN</td>\n",
       "      <td>Other Mixed or Multiple ethnic groups</td>\n",
       "    </tr>\n",
       "    <tr>\n",
       "      <th>1004</th>\n",
       "      <td>White</td>\n",
       "      <td>5.0</td>\n",
       "      <td>1.0</td>\n",
       "      <td>1000000.0</td>\n",
       "      <td>NaN</td>\n",
       "      <td>NaN</td>\n",
       "      <td>Ethnic group</td>\n",
       "      <td>1000000</td>\n",
       "      <td>1</td>\n",
       "      <td>True</td>\n",
       "      <td>NaN</td>\n",
       "    </tr>\n",
       "    <tr>\n",
       "      <th>1</th>\n",
       "      <td>White: English, Welsh, Scottish, Northern Iris...</td>\n",
       "      <td>NaN</td>\n",
       "      <td>NaN</td>\n",
       "      <td>NaN</td>\n",
       "      <td>NaN</td>\n",
       "      <td>NaN</td>\n",
       "      <td>Ethnic group</td>\n",
       "      <td>1000000</td>\n",
       "      <td>2</td>\n",
       "      <td>NaN</td>\n",
       "      <td>English, Welsh, Scottish, Northern Irish or Br...</td>\n",
       "    </tr>\n",
       "    <tr>\n",
       "      <th>2</th>\n",
       "      <td>White: Irish</td>\n",
       "      <td>NaN</td>\n",
       "      <td>NaN</td>\n",
       "      <td>NaN</td>\n",
       "      <td>NaN</td>\n",
       "      <td>NaN</td>\n",
       "      <td>Ethnic group</td>\n",
       "      <td>1000000</td>\n",
       "      <td>2</td>\n",
       "      <td>NaN</td>\n",
       "      <td>Irish</td>\n",
       "    </tr>\n",
       "    <tr>\n",
       "      <th>3</th>\n",
       "      <td>White: Gypsy or Irish Traveller</td>\n",
       "      <td>NaN</td>\n",
       "      <td>NaN</td>\n",
       "      <td>NaN</td>\n",
       "      <td>NaN</td>\n",
       "      <td>NaN</td>\n",
       "      <td>Ethnic group</td>\n",
       "      <td>1000000</td>\n",
       "      <td>2</td>\n",
       "      <td>NaN</td>\n",
       "      <td>Gypsy or Irish Traveller</td>\n",
       "    </tr>\n",
       "    <tr>\n",
       "      <th>4</th>\n",
       "      <td>White: Roma</td>\n",
       "      <td>NaN</td>\n",
       "      <td>NaN</td>\n",
       "      <td>NaN</td>\n",
       "      <td>NaN</td>\n",
       "      <td>NaN</td>\n",
       "      <td>Ethnic group</td>\n",
       "      <td>1000000</td>\n",
       "      <td>2</td>\n",
       "      <td>NaN</td>\n",
       "      <td>Roma</td>\n",
       "    </tr>\n",
       "    <tr>\n",
       "      <th>5</th>\n",
       "      <td>White: Other White</td>\n",
       "      <td>NaN</td>\n",
       "      <td>NaN</td>\n",
       "      <td>NaN</td>\n",
       "      <td>NaN</td>\n",
       "      <td>NaN</td>\n",
       "      <td>Ethnic group</td>\n",
       "      <td>1000000</td>\n",
       "      <td>2</td>\n",
       "      <td>NaN</td>\n",
       "      <td>Other White</td>\n",
       "    </tr>\n",
       "    <tr>\n",
       "      <th>1005</th>\n",
       "      <td>Other ethnic group</td>\n",
       "      <td>2.0</td>\n",
       "      <td>18.0</td>\n",
       "      <td>1000000.0</td>\n",
       "      <td>NaN</td>\n",
       "      <td>NaN</td>\n",
       "      <td>Ethnic group</td>\n",
       "      <td>1000000</td>\n",
       "      <td>1</td>\n",
       "      <td>True</td>\n",
       "      <td>NaN</td>\n",
       "    </tr>\n",
       "    <tr>\n",
       "      <th>18</th>\n",
       "      <td>Other ethnic group: Arab</td>\n",
       "      <td>NaN</td>\n",
       "      <td>NaN</td>\n",
       "      <td>NaN</td>\n",
       "      <td>NaN</td>\n",
       "      <td>NaN</td>\n",
       "      <td>Ethnic group</td>\n",
       "      <td>1000000</td>\n",
       "      <td>2</td>\n",
       "      <td>NaN</td>\n",
       "      <td>Arab</td>\n",
       "    </tr>\n",
       "    <tr>\n",
       "      <th>19</th>\n",
       "      <td>Other ethnic group: Any other ethnic group</td>\n",
       "      <td>NaN</td>\n",
       "      <td>NaN</td>\n",
       "      <td>NaN</td>\n",
       "      <td>NaN</td>\n",
       "      <td>NaN</td>\n",
       "      <td>Ethnic group</td>\n",
       "      <td>1000000</td>\n",
       "      <td>2</td>\n",
       "      <td>NaN</td>\n",
       "      <td>Any other ethnic group</td>\n",
       "    </tr>\n",
       "  </tbody>\n",
       "</table>\n",
       "</div>"
      ],
      "text/plain": [
       "                                                 Description  ChildCount  \\\n",
       "NomisCode                                                                  \n",
       "0                                 Total: All usual residents         5.0   \n",
       "1001                     Asian, Asian British or Asian Welsh         5.0   \n",
       "12          Asian, Asian British or Asian Welsh: Bangladeshi         NaN   \n",
       "13              Asian, Asian British or Asian Welsh: Chinese         NaN   \n",
       "10               Asian, Asian British or Asian Welsh: Indian         NaN   \n",
       "11            Asian, Asian British or Asian Welsh: Pakistani         NaN   \n",
       "14          Asian, Asian British or Asian Welsh: Other Asian         NaN   \n",
       "1002       Black, Black British, Black Welsh, Caribbean o...         3.0   \n",
       "16         Black, Black British, Black Welsh, Caribbean o...         NaN   \n",
       "15         Black, Black British, Black Welsh, Caribbean o...         NaN   \n",
       "17         Black, Black British, Black Welsh, Caribbean o...         NaN   \n",
       "1003                         Mixed or Multiple ethnic groups         4.0   \n",
       "8           Mixed or Multiple ethnic groups: White and Asian         NaN   \n",
       "7          Mixed or Multiple ethnic groups: White and Bla...         NaN   \n",
       "6          Mixed or Multiple ethnic groups: White and Bla...         NaN   \n",
       "9          Mixed or Multiple ethnic groups: Other Mixed o...         NaN   \n",
       "1004                                                   White         5.0   \n",
       "1          White: English, Welsh, Scottish, Northern Iris...         NaN   \n",
       "2                                               White: Irish         NaN   \n",
       "3                            White: Gypsy or Irish Traveller         NaN   \n",
       "4                                                White: Roma         NaN   \n",
       "5                                         White: Other White         NaN   \n",
       "1005                                      Other ethnic group         2.0   \n",
       "18                                  Other ethnic group: Arab         NaN   \n",
       "19                Other ethnic group: Any other ethnic group         NaN   \n",
       "\n",
       "           FirstChildCode  FirstChildTypeCode IsTotal IsDefault      TypeName  \\\n",
       "NomisCode                                                                       \n",
       "0                  1001.0           1000000.0    True      True  Ethnic group   \n",
       "1001                 12.0           1000000.0     NaN       NaN  Ethnic group   \n",
       "12                    NaN                 NaN     NaN       NaN  Ethnic group   \n",
       "13                    NaN                 NaN     NaN       NaN  Ethnic group   \n",
       "10                    NaN                 NaN     NaN       NaN  Ethnic group   \n",
       "11                    NaN                 NaN     NaN       NaN  Ethnic group   \n",
       "14                    NaN                 NaN     NaN       NaN  Ethnic group   \n",
       "1002                 16.0           1000000.0     NaN       NaN  Ethnic group   \n",
       "16                    NaN                 NaN     NaN       NaN  Ethnic group   \n",
       "15                    NaN                 NaN     NaN       NaN  Ethnic group   \n",
       "17                    NaN                 NaN     NaN       NaN  Ethnic group   \n",
       "1003                  8.0           1000000.0     NaN       NaN  Ethnic group   \n",
       "8                     NaN                 NaN     NaN       NaN  Ethnic group   \n",
       "7                     NaN                 NaN     NaN       NaN  Ethnic group   \n",
       "6                     NaN                 NaN     NaN       NaN  Ethnic group   \n",
       "9                     NaN                 NaN     NaN       NaN  Ethnic group   \n",
       "1004                  1.0           1000000.0     NaN       NaN  Ethnic group   \n",
       "1                     NaN                 NaN     NaN       NaN  Ethnic group   \n",
       "2                     NaN                 NaN     NaN       NaN  Ethnic group   \n",
       "3                     NaN                 NaN     NaN       NaN  Ethnic group   \n",
       "4                     NaN                 NaN     NaN       NaN  Ethnic group   \n",
       "5                     NaN                 NaN     NaN       NaN  Ethnic group   \n",
       "1005                 18.0           1000000.0     NaN       NaN  Ethnic group   \n",
       "18                    NaN                 NaN     NaN       NaN  Ethnic group   \n",
       "19                    NaN                 NaN     NaN       NaN  Ethnic group   \n",
       "\n",
       "           TypeCode  Level isDerived  \\\n",
       "NomisCode                              \n",
       "0           1000000      0       NaN   \n",
       "1001        1000000      1      True   \n",
       "12          1000000      2       NaN   \n",
       "13          1000000      2       NaN   \n",
       "10          1000000      2       NaN   \n",
       "11          1000000      2       NaN   \n",
       "14          1000000      2       NaN   \n",
       "1002        1000000      1      True   \n",
       "16          1000000      2       NaN   \n",
       "15          1000000      2       NaN   \n",
       "17          1000000      2       NaN   \n",
       "1003        1000000      1      True   \n",
       "8           1000000      2       NaN   \n",
       "7           1000000      2       NaN   \n",
       "6           1000000      2       NaN   \n",
       "9           1000000      2       NaN   \n",
       "1004        1000000      1      True   \n",
       "1           1000000      2       NaN   \n",
       "2           1000000      2       NaN   \n",
       "3           1000000      2       NaN   \n",
       "4           1000000      2       NaN   \n",
       "5           1000000      2       NaN   \n",
       "1005        1000000      1      True   \n",
       "18          1000000      2       NaN   \n",
       "19          1000000      2       NaN   \n",
       "\n",
       "                                                 DisplayName  \n",
       "NomisCode                                                     \n",
       "0                                                        NaN  \n",
       "1001                                                     NaN  \n",
       "12                                               Bangladeshi  \n",
       "13                                                   Chinese  \n",
       "10                                                    Indian  \n",
       "11                                                 Pakistani  \n",
       "14                                               Other Asian  \n",
       "1002                                                     NaN  \n",
       "16                                                   African  \n",
       "15                                                 Caribbean  \n",
       "17                                               Other Black  \n",
       "1003                                                     NaN  \n",
       "8                                            White and Asian  \n",
       "7                                    White and Black African  \n",
       "6                                  White and Black Caribbean  \n",
       "9                      Other Mixed or Multiple ethnic groups  \n",
       "1004                                                     NaN  \n",
       "1          English, Welsh, Scottish, Northern Irish or Br...  \n",
       "2                                                      Irish  \n",
       "3                                   Gypsy or Irish Traveller  \n",
       "4                                                       Roma  \n",
       "5                                                Other White  \n",
       "1005                                                     NaN  \n",
       "18                                                      Arab  \n",
       "19                                    Any other ethnic group  "
      ]
     },
     "execution_count": 13,
     "metadata": {},
     "output_type": "execute_result"
    }
   ],
   "source": [
    "fields[\"C2021_ETH_20\"][\"values\"]"
   ]
  },
  {
   "cell_type": "markdown",
   "id": "4812dc42",
   "metadata": {},
   "source": [
    "## Get some crime data and the LSOAs they occur in "
   ]
  },
  {
   "cell_type": "code",
   "execution_count": 14,
   "id": "aa6ad96f",
   "metadata": {},
   "outputs": [
    {
     "data": {
      "text/html": [
       "<div>\n",
       "<style scoped>\n",
       "    .dataframe tbody tr th:only-of-type {\n",
       "        vertical-align: middle;\n",
       "    }\n",
       "\n",
       "    .dataframe tbody tr th {\n",
       "        vertical-align: top;\n",
       "    }\n",
       "\n",
       "    .dataframe thead th {\n",
       "        text-align: right;\n",
       "    }\n",
       "</style>\n",
       "<table border=\"1\" class=\"dataframe\">\n",
       "  <thead>\n",
       "    <tr style=\"text-align: right;\">\n",
       "      <th></th>\n",
       "      <th>Month</th>\n",
       "      <th>Reported by</th>\n",
       "      <th>Falls within</th>\n",
       "      <th>Location</th>\n",
       "      <th>LSOA code</th>\n",
       "      <th>LSOA name</th>\n",
       "      <th>Crime type</th>\n",
       "      <th>geometry</th>\n",
       "    </tr>\n",
       "    <tr>\n",
       "      <th>Crime ID</th>\n",
       "      <th></th>\n",
       "      <th></th>\n",
       "      <th></th>\n",
       "      <th></th>\n",
       "      <th></th>\n",
       "      <th></th>\n",
       "      <th></th>\n",
       "      <th></th>\n",
       "    </tr>\n",
       "  </thead>\n",
       "  <tbody>\n",
       "    <tr>\n",
       "      <th>5595af42450784687d49fbac869eea6fcf80cc0b9216cdf52b5ba29493e70d5b</th>\n",
       "      <td>2022-06</td>\n",
       "      <td>West Yorkshire Police</td>\n",
       "      <td>West Yorkshire Police</td>\n",
       "      <td>On or near Park/Open Space</td>\n",
       "      <td>E01007418</td>\n",
       "      <td>Barnsley 016A</td>\n",
       "      <td>Public order</td>\n",
       "      <td>POINT (428510.985 412445.001)</td>\n",
       "    </tr>\n",
       "    <tr>\n",
       "      <th>0a55896e95eae6efc9f1d96e2338b7ae58c8c2e903ce55cd180ad85772173791</th>\n",
       "      <td>2022-06</td>\n",
       "      <td>West Yorkshire Police</td>\n",
       "      <td>West Yorkshire Police</td>\n",
       "      <td>On or near Cocking Lane</td>\n",
       "      <td>E01010646</td>\n",
       "      <td>Bradford 001A</td>\n",
       "      <td>Criminal damage and arson</td>\n",
       "      <td>POINT (407795.98 448637.999)</td>\n",
       "    </tr>\n",
       "    <tr>\n",
       "      <th>6ef8495fb8063b21759a66268016972e7ac403e1a4d3d0ee394eaaeb99edbbf4</th>\n",
       "      <td>2022-06</td>\n",
       "      <td>West Yorkshire Police</td>\n",
       "      <td>West Yorkshire Police</td>\n",
       "      <td>On or near Beacon Street</td>\n",
       "      <td>E01010646</td>\n",
       "      <td>Bradford 001A</td>\n",
       "      <td>Other theft</td>\n",
       "      <td>POINT (408373.007 449758.96)</td>\n",
       "    </tr>\n",
       "    <tr>\n",
       "      <th>ed7bc5cf1e0d6d98e657d84d9145e28e1741257afd40893d0397350a7d97728e</th>\n",
       "      <td>2022-06</td>\n",
       "      <td>West Yorkshire Police</td>\n",
       "      <td>West Yorkshire Police</td>\n",
       "      <td>On or near Beacon Street</td>\n",
       "      <td>E01010646</td>\n",
       "      <td>Bradford 001A</td>\n",
       "      <td>Other theft</td>\n",
       "      <td>POINT (408373.007 449758.96)</td>\n",
       "    </tr>\n",
       "    <tr>\n",
       "      <th>d39b91fd1beb6d981ca79be112354879477f97ee610684c95298d6d90c499e1b</th>\n",
       "      <td>2022-06</td>\n",
       "      <td>West Yorkshire Police</td>\n",
       "      <td>West Yorkshire Police</td>\n",
       "      <td>On or near Cross End Fold</td>\n",
       "      <td>E01010646</td>\n",
       "      <td>Bradford 001A</td>\n",
       "      <td>Public order</td>\n",
       "      <td>POINT (408037.995 449751.034)</td>\n",
       "    </tr>\n",
       "    <tr>\n",
       "      <th>...</th>\n",
       "      <td>...</td>\n",
       "      <td>...</td>\n",
       "      <td>...</td>\n",
       "      <td>...</td>\n",
       "      <td>...</td>\n",
       "      <td>...</td>\n",
       "      <td>...</td>\n",
       "      <td>...</td>\n",
       "    </tr>\n",
       "    <tr>\n",
       "      <th>3936ab0e2fd239fb68cbb3749d2db27e73aeb1c1265abef4ee4e9bcf8f111805</th>\n",
       "      <td>2025-05</td>\n",
       "      <td>West Yorkshire Police</td>\n",
       "      <td>West Yorkshire Police</td>\n",
       "      <td>On or near Mill Street</td>\n",
       "      <td>E01011872</td>\n",
       "      <td>Wakefield 045D</td>\n",
       "      <td>Violence and sexual offences</td>\n",
       "      <td>POINT (444424.007 410686.031)</td>\n",
       "    </tr>\n",
       "    <tr>\n",
       "      <th>2d4730ccf43dbdf19f614cd34084afe6ded3e7dad5a5e79b70c61b1acfc247b9</th>\n",
       "      <td>2025-05</td>\n",
       "      <td>West Yorkshire Police</td>\n",
       "      <td>West Yorkshire Police</td>\n",
       "      <td>On or near Mill Lane Villas</td>\n",
       "      <td>E01011872</td>\n",
       "      <td>Wakefield 045D</td>\n",
       "      <td>Violence and sexual offences</td>\n",
       "      <td>POINT (444518.988 410582.003)</td>\n",
       "    </tr>\n",
       "    <tr>\n",
       "      <th>b987d5101a01108a62245d0aa788817221f5b3274e403305bc6e83e935061b94</th>\n",
       "      <td>2025-05</td>\n",
       "      <td>West Yorkshire Police</td>\n",
       "      <td>West Yorkshire Police</td>\n",
       "      <td>On or near Holmsley Mount</td>\n",
       "      <td>E01011872</td>\n",
       "      <td>Wakefield 045D</td>\n",
       "      <td>Violence and sexual offences</td>\n",
       "      <td>POINT (444333.024 410802.003)</td>\n",
       "    </tr>\n",
       "    <tr>\n",
       "      <th>deaf6252399b6e42b3c2de28076c65c0b539236afa2d9eb4d224b5c9691232d9</th>\n",
       "      <td>2025-05</td>\n",
       "      <td>West Yorkshire Police</td>\n",
       "      <td>West Yorkshire Police</td>\n",
       "      <td>On or near Holmsley Mount</td>\n",
       "      <td>E01011872</td>\n",
       "      <td>Wakefield 045D</td>\n",
       "      <td>Violence and sexual offences</td>\n",
       "      <td>POINT (444333.024 410802.003)</td>\n",
       "    </tr>\n",
       "    <tr>\n",
       "      <th>68dca49558432074067662721bb4338148e2881a608b51b9984a92b901f3acfb</th>\n",
       "      <td>2025-05</td>\n",
       "      <td>West Yorkshire Police</td>\n",
       "      <td>West Yorkshire Police</td>\n",
       "      <td>On or near Marion Close</td>\n",
       "      <td>E01011872</td>\n",
       "      <td>Wakefield 045D</td>\n",
       "      <td>Violence and sexual offences</td>\n",
       "      <td>POINT (444352.001 410634.952)</td>\n",
       "    </tr>\n",
       "  </tbody>\n",
       "</table>\n",
       "<p>954601 rows × 8 columns</p>\n",
       "</div>"
      ],
      "text/plain": [
       "                                                      Month  \\\n",
       "Crime ID                                                      \n",
       "5595af42450784687d49fbac869eea6fcf80cc0b9216cdf...  2022-06   \n",
       "0a55896e95eae6efc9f1d96e2338b7ae58c8c2e903ce55c...  2022-06   \n",
       "6ef8495fb8063b21759a66268016972e7ac403e1a4d3d0e...  2022-06   \n",
       "ed7bc5cf1e0d6d98e657d84d9145e28e1741257afd40893...  2022-06   \n",
       "d39b91fd1beb6d981ca79be112354879477f97ee610684c...  2022-06   \n",
       "...                                                     ...   \n",
       "3936ab0e2fd239fb68cbb3749d2db27e73aeb1c1265abef...  2025-05   \n",
       "2d4730ccf43dbdf19f614cd34084afe6ded3e7dad5a5e79...  2025-05   \n",
       "b987d5101a01108a62245d0aa788817221f5b3274e40330...  2025-05   \n",
       "deaf6252399b6e42b3c2de28076c65c0b539236afa2d9eb...  2025-05   \n",
       "68dca49558432074067662721bb4338148e2881a608b51b...  2025-05   \n",
       "\n",
       "                                                              Reported by  \\\n",
       "Crime ID                                                                    \n",
       "5595af42450784687d49fbac869eea6fcf80cc0b9216cdf...  West Yorkshire Police   \n",
       "0a55896e95eae6efc9f1d96e2338b7ae58c8c2e903ce55c...  West Yorkshire Police   \n",
       "6ef8495fb8063b21759a66268016972e7ac403e1a4d3d0e...  West Yorkshire Police   \n",
       "ed7bc5cf1e0d6d98e657d84d9145e28e1741257afd40893...  West Yorkshire Police   \n",
       "d39b91fd1beb6d981ca79be112354879477f97ee610684c...  West Yorkshire Police   \n",
       "...                                                                   ...   \n",
       "3936ab0e2fd239fb68cbb3749d2db27e73aeb1c1265abef...  West Yorkshire Police   \n",
       "2d4730ccf43dbdf19f614cd34084afe6ded3e7dad5a5e79...  West Yorkshire Police   \n",
       "b987d5101a01108a62245d0aa788817221f5b3274e40330...  West Yorkshire Police   \n",
       "deaf6252399b6e42b3c2de28076c65c0b539236afa2d9eb...  West Yorkshire Police   \n",
       "68dca49558432074067662721bb4338148e2881a608b51b...  West Yorkshire Police   \n",
       "\n",
       "                                                             Falls within  \\\n",
       "Crime ID                                                                    \n",
       "5595af42450784687d49fbac869eea6fcf80cc0b9216cdf...  West Yorkshire Police   \n",
       "0a55896e95eae6efc9f1d96e2338b7ae58c8c2e903ce55c...  West Yorkshire Police   \n",
       "6ef8495fb8063b21759a66268016972e7ac403e1a4d3d0e...  West Yorkshire Police   \n",
       "ed7bc5cf1e0d6d98e657d84d9145e28e1741257afd40893...  West Yorkshire Police   \n",
       "d39b91fd1beb6d981ca79be112354879477f97ee610684c...  West Yorkshire Police   \n",
       "...                                                                   ...   \n",
       "3936ab0e2fd239fb68cbb3749d2db27e73aeb1c1265abef...  West Yorkshire Police   \n",
       "2d4730ccf43dbdf19f614cd34084afe6ded3e7dad5a5e79...  West Yorkshire Police   \n",
       "b987d5101a01108a62245d0aa788817221f5b3274e40330...  West Yorkshire Police   \n",
       "deaf6252399b6e42b3c2de28076c65c0b539236afa2d9eb...  West Yorkshire Police   \n",
       "68dca49558432074067662721bb4338148e2881a608b51b...  West Yorkshire Police   \n",
       "\n",
       "                                                                       Location  \\\n",
       "Crime ID                                                                          \n",
       "5595af42450784687d49fbac869eea6fcf80cc0b9216cdf...   On or near Park/Open Space   \n",
       "0a55896e95eae6efc9f1d96e2338b7ae58c8c2e903ce55c...      On or near Cocking Lane   \n",
       "6ef8495fb8063b21759a66268016972e7ac403e1a4d3d0e...     On or near Beacon Street   \n",
       "ed7bc5cf1e0d6d98e657d84d9145e28e1741257afd40893...     On or near Beacon Street   \n",
       "d39b91fd1beb6d981ca79be112354879477f97ee610684c...    On or near Cross End Fold   \n",
       "...                                                                         ...   \n",
       "3936ab0e2fd239fb68cbb3749d2db27e73aeb1c1265abef...       On or near Mill Street   \n",
       "2d4730ccf43dbdf19f614cd34084afe6ded3e7dad5a5e79...  On or near Mill Lane Villas   \n",
       "b987d5101a01108a62245d0aa788817221f5b3274e40330...    On or near Holmsley Mount   \n",
       "deaf6252399b6e42b3c2de28076c65c0b539236afa2d9eb...    On or near Holmsley Mount   \n",
       "68dca49558432074067662721bb4338148e2881a608b51b...      On or near Marion Close   \n",
       "\n",
       "                                                    LSOA code       LSOA name  \\\n",
       "Crime ID                                                                        \n",
       "5595af42450784687d49fbac869eea6fcf80cc0b9216cdf...  E01007418   Barnsley 016A   \n",
       "0a55896e95eae6efc9f1d96e2338b7ae58c8c2e903ce55c...  E01010646   Bradford 001A   \n",
       "6ef8495fb8063b21759a66268016972e7ac403e1a4d3d0e...  E01010646   Bradford 001A   \n",
       "ed7bc5cf1e0d6d98e657d84d9145e28e1741257afd40893...  E01010646   Bradford 001A   \n",
       "d39b91fd1beb6d981ca79be112354879477f97ee610684c...  E01010646   Bradford 001A   \n",
       "...                                                       ...             ...   \n",
       "3936ab0e2fd239fb68cbb3749d2db27e73aeb1c1265abef...  E01011872  Wakefield 045D   \n",
       "2d4730ccf43dbdf19f614cd34084afe6ded3e7dad5a5e79...  E01011872  Wakefield 045D   \n",
       "b987d5101a01108a62245d0aa788817221f5b3274e40330...  E01011872  Wakefield 045D   \n",
       "deaf6252399b6e42b3c2de28076c65c0b539236afa2d9eb...  E01011872  Wakefield 045D   \n",
       "68dca49558432074067662721bb4338148e2881a608b51b...  E01011872  Wakefield 045D   \n",
       "\n",
       "                                                                      Crime type  \\\n",
       "Crime ID                                                                           \n",
       "5595af42450784687d49fbac869eea6fcf80cc0b9216cdf...                  Public order   \n",
       "0a55896e95eae6efc9f1d96e2338b7ae58c8c2e903ce55c...     Criminal damage and arson   \n",
       "6ef8495fb8063b21759a66268016972e7ac403e1a4d3d0e...                   Other theft   \n",
       "ed7bc5cf1e0d6d98e657d84d9145e28e1741257afd40893...                   Other theft   \n",
       "d39b91fd1beb6d981ca79be112354879477f97ee610684c...                  Public order   \n",
       "...                                                                          ...   \n",
       "3936ab0e2fd239fb68cbb3749d2db27e73aeb1c1265abef...  Violence and sexual offences   \n",
       "2d4730ccf43dbdf19f614cd34084afe6ded3e7dad5a5e79...  Violence and sexual offences   \n",
       "b987d5101a01108a62245d0aa788817221f5b3274e40330...  Violence and sexual offences   \n",
       "deaf6252399b6e42b3c2de28076c65c0b539236afa2d9eb...  Violence and sexual offences   \n",
       "68dca49558432074067662721bb4338148e2881a608b51b...  Violence and sexual offences   \n",
       "\n",
       "                                                                         geometry  \n",
       "Crime ID                                                                           \n",
       "5595af42450784687d49fbac869eea6fcf80cc0b9216cdf...  POINT (428510.985 412445.001)  \n",
       "0a55896e95eae6efc9f1d96e2338b7ae58c8c2e903ce55c...   POINT (407795.98 448637.999)  \n",
       "6ef8495fb8063b21759a66268016972e7ac403e1a4d3d0e...   POINT (408373.007 449758.96)  \n",
       "ed7bc5cf1e0d6d98e657d84d9145e28e1741257afd40893...   POINT (408373.007 449758.96)  \n",
       "d39b91fd1beb6d981ca79be112354879477f97ee610684c...  POINT (408037.995 449751.034)  \n",
       "...                                                                           ...  \n",
       "3936ab0e2fd239fb68cbb3749d2db27e73aeb1c1265abef...  POINT (444424.007 410686.031)  \n",
       "2d4730ccf43dbdf19f614cd34084afe6ded3e7dad5a5e79...  POINT (444518.988 410582.003)  \n",
       "b987d5101a01108a62245d0aa788817221f5b3274e40330...  POINT (444333.024 410802.003)  \n",
       "deaf6252399b6e42b3c2de28076c65c0b539236afa2d9eb...  POINT (444333.024 410802.003)  \n",
       "68dca49558432074067662721bb4338148e2881a608b51b...  POINT (444352.001 410634.952)  \n",
       "\n",
       "[954601 rows x 8 columns]"
      ]
     },
     "execution_count": 14,
     "metadata": {},
     "output_type": "execute_result"
    }
   ],
   "source": [
    "crime_data = extract_crime_data(\"west-yorkshire\")\n",
    "crime_data"
   ]
  },
  {
   "cell_type": "code",
   "execution_count": 15,
   "id": "26e4fa76",
   "metadata": {},
   "outputs": [
    {
     "data": {
      "text/plain": [
       "array(['E01005410', 'E01005414', 'E01005448', ..., 'E01035052',\n",
       "       'E01035053', 'E01035054'], shape=(1447,), dtype=object)"
      ]
     },
     "execution_count": 15,
     "metadata": {},
     "output_type": "execute_result"
    }
   ],
   "source": [
    "available_lsoas = FieldMetadata(\n",
    "    **fetch(f\"dataset/{table_name}/geography/2092957703TYPE151.def.sdmx.json\")\n",
    ").to_dataframe()[\"GeogCode\"]\n",
    "lsoas = crime_data[\"LSOA code\"].unique()\n",
    "# FFS crime data has some 2011 LSOAs\n",
    "lsoas = np.intersect1d(lsoas, available_lsoas)\n",
    "lsoas"
   ]
  },
  {
   "cell_type": "code",
   "execution_count": 16,
   "id": "2fed740f",
   "metadata": {},
   "outputs": [],
   "source": [
    "table_name = \"NM_2132_1\"\n",
    "nomis_area_codes = available_lsoas[available_lsoas.isin(lsoas)].index.to_list()\n",
    "\n",
    "# TODO? select only using codes and use metadata as lookup?\n",
    "selections = \",\".join(\n",
    "    (\n",
    "        \"GEOGRAPHY_CODE\",\n",
    "        *(f\"{field}_NAME\" for field in fields if field not in [\"GEOGRAPHY\", \"FREQ\", \"MEASURES\"]),\n",
    "        \"OBS_VALUE\",\n",
    "    )\n",
    ")\n",
    "\n",
    "params = {\n",
    "    \"date\": \"latest\",\n",
    "    \"geography\": build_geog_query(nomis_area_codes),\n",
    "    \"c2021_eth_20\": \"1001...1005\",\n",
    "    \"c2021_age_6\": \"1...5\",\n",
    "    \"c_sex\": \"1,2\",\n",
    "    \"select\": selections,\n",
    "}\n",
    "\n",
    "data = fetch_table(table_name, **params)"
   ]
  },
  {
   "cell_type": "code",
   "execution_count": 17,
   "id": "70fb7850",
   "metadata": {},
   "outputs": [
    {
     "data": {
      "application/vnd.microsoft.datawrangler.viewer.v0+json": {
       "columns": [
        {
         "name": "index",
         "rawType": "int64",
         "type": "integer"
        },
        {
         "name": "GEOGRAPHY_CODE",
         "rawType": "object",
         "type": "string"
        },
        {
         "name": "C2021_ETH_20_NAME",
         "rawType": "object",
         "type": "string"
        },
        {
         "name": "OBS_VALUE",
         "rawType": "int64",
         "type": "integer"
        }
       ],
       "ref": "99d80edb-7474-44ae-a559-eec346cd39bd",
       "rows": [
        [
         "0",
         "E01005410",
         "Asian, Asian British or Asian Welsh",
         "1"
        ],
        [
         "1",
         "E01005410",
         "Asian, Asian British or Asian Welsh",
         "1"
        ],
        [
         "2",
         "E01005410",
         "Asian, Asian British or Asian Welsh",
         "0"
        ],
        [
         "3",
         "E01005410",
         "Asian, Asian British or Asian Welsh",
         "0"
        ],
        [
         "4",
         "E01005410",
         "Asian, Asian British or Asian Welsh",
         "4"
        ],
        [
         "5",
         "E01005410",
         "Asian, Asian British or Asian Welsh",
         "2"
        ],
        [
         "6",
         "E01005410",
         "Asian, Asian British or Asian Welsh",
         "1"
        ],
        [
         "7",
         "E01005410",
         "Asian, Asian British or Asian Welsh",
         "1"
        ],
        [
         "8",
         "E01005410",
         "Asian, Asian British or Asian Welsh",
         "1"
        ],
        [
         "9",
         "E01005410",
         "Asian, Asian British or Asian Welsh",
         "0"
        ],
        [
         "10",
         "E01005410",
         "Black, Black British, Black Welsh, Caribbean or African",
         "0"
        ],
        [
         "11",
         "E01005410",
         "Black, Black British, Black Welsh, Caribbean or African",
         "1"
        ],
        [
         "12",
         "E01005410",
         "Black, Black British, Black Welsh, Caribbean or African",
         "0"
        ],
        [
         "13",
         "E01005410",
         "Black, Black British, Black Welsh, Caribbean or African",
         "0"
        ],
        [
         "14",
         "E01005410",
         "Black, Black British, Black Welsh, Caribbean or African",
         "0"
        ],
        [
         "15",
         "E01005410",
         "Black, Black British, Black Welsh, Caribbean or African",
         "0"
        ],
        [
         "16",
         "E01005410",
         "Black, Black British, Black Welsh, Caribbean or African",
         "0"
        ],
        [
         "17",
         "E01005410",
         "Black, Black British, Black Welsh, Caribbean or African",
         "0"
        ],
        [
         "18",
         "E01005410",
         "Black, Black British, Black Welsh, Caribbean or African",
         "0"
        ],
        [
         "19",
         "E01005410",
         "Black, Black British, Black Welsh, Caribbean or African",
         "0"
        ],
        [
         "20",
         "E01005410",
         "Mixed or Multiple ethnic groups",
         "1"
        ],
        [
         "21",
         "E01005410",
         "Mixed or Multiple ethnic groups",
         "5"
        ],
        [
         "22",
         "E01005410",
         "Mixed or Multiple ethnic groups",
         "1"
        ],
        [
         "23",
         "E01005410",
         "Mixed or Multiple ethnic groups",
         "1"
        ],
        [
         "24",
         "E01005410",
         "Mixed or Multiple ethnic groups",
         "1"
        ],
        [
         "25",
         "E01005410",
         "Mixed or Multiple ethnic groups",
         "0"
        ],
        [
         "26",
         "E01005410",
         "Mixed or Multiple ethnic groups",
         "2"
        ],
        [
         "27",
         "E01005410",
         "Mixed or Multiple ethnic groups",
         "0"
        ],
        [
         "28",
         "E01005410",
         "Mixed or Multiple ethnic groups",
         "0"
        ],
        [
         "29",
         "E01005410",
         "Mixed or Multiple ethnic groups",
         "0"
        ],
        [
         "30",
         "E01005410",
         "White",
         "161"
        ],
        [
         "31",
         "E01005410",
         "White",
         "178"
        ],
        [
         "32",
         "E01005410",
         "White",
         "52"
        ],
        [
         "33",
         "E01005410",
         "White",
         "56"
        ],
        [
         "34",
         "E01005410",
         "White",
         "133"
        ],
        [
         "35",
         "E01005410",
         "White",
         "124"
        ],
        [
         "36",
         "E01005410",
         "White",
         "203"
        ],
        [
         "37",
         "E01005410",
         "White",
         "202"
        ],
        [
         "38",
         "E01005410",
         "White",
         "176"
        ],
        [
         "39",
         "E01005410",
         "White",
         "178"
        ],
        [
         "40",
         "E01005410",
         "Other ethnic group",
         "1"
        ],
        [
         "41",
         "E01005410",
         "Other ethnic group",
         "2"
        ],
        [
         "42",
         "E01005410",
         "Other ethnic group",
         "0"
        ],
        [
         "43",
         "E01005410",
         "Other ethnic group",
         "0"
        ],
        [
         "44",
         "E01005410",
         "Other ethnic group",
         "2"
        ],
        [
         "45",
         "E01005410",
         "Other ethnic group",
         "2"
        ],
        [
         "46",
         "E01005410",
         "Other ethnic group",
         "1"
        ],
        [
         "47",
         "E01005410",
         "Other ethnic group",
         "0"
        ],
        [
         "48",
         "E01005410",
         "Other ethnic group",
         "1"
        ],
        [
         "49",
         "E01005410",
         "Other ethnic group",
         "2"
        ]
       ],
       "shape": {
        "columns": 3,
        "rows": 72350
       }
      },
      "text/html": [
       "<div>\n",
       "<style scoped>\n",
       "    .dataframe tbody tr th:only-of-type {\n",
       "        vertical-align: middle;\n",
       "    }\n",
       "\n",
       "    .dataframe tbody tr th {\n",
       "        vertical-align: top;\n",
       "    }\n",
       "\n",
       "    .dataframe thead th {\n",
       "        text-align: right;\n",
       "    }\n",
       "</style>\n",
       "<table border=\"1\" class=\"dataframe\">\n",
       "  <thead>\n",
       "    <tr style=\"text-align: right;\">\n",
       "      <th></th>\n",
       "      <th>GEOGRAPHY_CODE</th>\n",
       "      <th>C2021_ETH_20_NAME</th>\n",
       "      <th>OBS_VALUE</th>\n",
       "    </tr>\n",
       "  </thead>\n",
       "  <tbody>\n",
       "    <tr>\n",
       "      <th>0</th>\n",
       "      <td>E01005410</td>\n",
       "      <td>Asian, Asian British or Asian Welsh</td>\n",
       "      <td>1</td>\n",
       "    </tr>\n",
       "    <tr>\n",
       "      <th>1</th>\n",
       "      <td>E01005410</td>\n",
       "      <td>Asian, Asian British or Asian Welsh</td>\n",
       "      <td>1</td>\n",
       "    </tr>\n",
       "    <tr>\n",
       "      <th>2</th>\n",
       "      <td>E01005410</td>\n",
       "      <td>Asian, Asian British or Asian Welsh</td>\n",
       "      <td>0</td>\n",
       "    </tr>\n",
       "    <tr>\n",
       "      <th>3</th>\n",
       "      <td>E01005410</td>\n",
       "      <td>Asian, Asian British or Asian Welsh</td>\n",
       "      <td>0</td>\n",
       "    </tr>\n",
       "    <tr>\n",
       "      <th>4</th>\n",
       "      <td>E01005410</td>\n",
       "      <td>Asian, Asian British or Asian Welsh</td>\n",
       "      <td>4</td>\n",
       "    </tr>\n",
       "    <tr>\n",
       "      <th>...</th>\n",
       "      <td>...</td>\n",
       "      <td>...</td>\n",
       "      <td>...</td>\n",
       "    </tr>\n",
       "    <tr>\n",
       "      <th>72345</th>\n",
       "      <td>E01035054</td>\n",
       "      <td>Other ethnic group</td>\n",
       "      <td>13</td>\n",
       "    </tr>\n",
       "    <tr>\n",
       "      <th>72346</th>\n",
       "      <td>E01035054</td>\n",
       "      <td>Other ethnic group</td>\n",
       "      <td>2</td>\n",
       "    </tr>\n",
       "    <tr>\n",
       "      <th>72347</th>\n",
       "      <td>E01035054</td>\n",
       "      <td>Other ethnic group</td>\n",
       "      <td>1</td>\n",
       "    </tr>\n",
       "    <tr>\n",
       "      <th>72348</th>\n",
       "      <td>E01035054</td>\n",
       "      <td>Other ethnic group</td>\n",
       "      <td>0</td>\n",
       "    </tr>\n",
       "    <tr>\n",
       "      <th>72349</th>\n",
       "      <td>E01035054</td>\n",
       "      <td>Other ethnic group</td>\n",
       "      <td>0</td>\n",
       "    </tr>\n",
       "  </tbody>\n",
       "</table>\n",
       "<p>72350 rows × 3 columns</p>\n",
       "</div>"
      ],
      "text/plain": [
       "      GEOGRAPHY_CODE                    C2021_ETH_20_NAME  OBS_VALUE\n",
       "0          E01005410  Asian, Asian British or Asian Welsh          1\n",
       "1          E01005410  Asian, Asian British or Asian Welsh          1\n",
       "2          E01005410  Asian, Asian British or Asian Welsh          0\n",
       "3          E01005410  Asian, Asian British or Asian Welsh          0\n",
       "4          E01005410  Asian, Asian British or Asian Welsh          4\n",
       "...              ...                                  ...        ...\n",
       "72345      E01035054                   Other ethnic group         13\n",
       "72346      E01035054                   Other ethnic group          2\n",
       "72347      E01035054                   Other ethnic group          1\n",
       "72348      E01035054                   Other ethnic group          0\n",
       "72349      E01035054                   Other ethnic group          0\n",
       "\n",
       "[72350 rows x 3 columns]"
      ]
     },
     "execution_count": 17,
     "metadata": {},
     "output_type": "execute_result"
    }
   ],
   "source": [
    "data  # .C2021_ETH_20_NAME.unique()"
   ]
  },
  {
   "cell_type": "code",
   "execution_count": 18,
   "id": "e28a0c83",
   "metadata": {},
   "outputs": [
    {
     "data": {
      "application/vnd.microsoft.datawrangler.viewer.v0+json": {
       "columns": [
        {
         "name": "GEOGRAPHY_CODE",
         "rawType": "object",
         "type": "string"
        },
        {
         "name": "0",
         "rawType": "float64",
         "type": "float"
        }
       ],
       "ref": "bd99529a-485c-43cf-9117-669244a52403",
       "rows": [
        [
         "E01005410",
         "0.0006680026720106881"
        ],
        [
         "E01005414",
         "0.00149812734082397"
        ],
        [
         "E01005448",
         "0.05735204392922514"
        ],
        [
         "E01005561",
         "0.004953998584571833"
        ],
        [
         "E01006881",
         "0.010496850944716585"
        ],
        [
         "E01007319",
         "0.0"
        ],
        [
         "E01007328",
         "0.003814973772055317"
        ],
        [
         "E01007329",
         "0.0012682308180088776"
        ],
        [
         "E01007355",
         "0.002094972067039106"
        ],
        [
         "E01007356",
         "0.0"
        ],
        [
         "E01007359",
         "0.007633587786259542"
        ],
        [
         "E01007363",
         "0.01290719114935464"
        ],
        [
         "E01007382",
         "0.011235955056179775"
        ],
        [
         "E01007418",
         "0.0007782101167315176"
        ],
        [
         "E01007426",
         "0.0020757654385054488"
        ],
        [
         "E01007438",
         "0.0035137034434293743"
        ],
        [
         "E01007439",
         "0.0006882312456985547"
        ],
        [
         "E01007456",
         "0.003436426116838488"
        ],
        [
         "E01007465",
         "0.01825013419216318"
        ],
        [
         "E01007587",
         "0.0012453300124533001"
        ],
        [
         "E01010568",
         "0.006402793946449359"
        ],
        [
         "E01010569",
         "0.009122006841505131"
        ],
        [
         "E01010570",
         "0.002677376171352075"
        ],
        [
         "E01010571",
         "0.013408973697782363"
        ],
        [
         "E01010572",
         "0.0026899798251513113"
        ],
        [
         "E01010573",
         "0.0032768978700163844"
        ],
        [
         "E01010574",
         "0.0042765502494654314"
        ],
        [
         "E01010575",
         "0.0"
        ],
        [
         "E01010576",
         "0.004623513870541612"
        ],
        [
         "E01010577",
         "0.006435006435006435"
        ],
        [
         "E01010578",
         "0.004369538077403246"
        ],
        [
         "E01010579",
         "0.007947019867549669"
        ],
        [
         "E01010580",
         "0.00518341307814992"
        ],
        [
         "E01010581",
         "0.00852099817407182"
        ],
        [
         "E01010582",
         "0.001791044776119403"
        ],
        [
         "E01010583",
         "0.005564387917329093"
        ],
        [
         "E01010584",
         "0.011337868480725623"
        ],
        [
         "E01010585",
         "0.008445106805762544"
        ],
        [
         "E01010586",
         "0.0012476606363069245"
        ],
        [
         "E01010587",
         "0.0028999516674722086"
        ],
        [
         "E01010588",
         "0.010081915563957152"
        ],
        [
         "E01010589",
         "0.004415011037527594"
        ],
        [
         "E01010590",
         "0.0036413290851160674"
        ],
        [
         "E01010591",
         "0.0006261740763932373"
        ],
        [
         "E01010592",
         "0.004181600955794504"
        ],
        [
         "E01010593",
         "0.00648202710665881"
        ],
        [
         "E01010594",
         "0.005402160864345739"
        ],
        [
         "E01010595",
         "0.014974262985493684"
        ],
        [
         "E01010596",
         "0.003250975292587776"
        ],
        [
         "E01010597",
         "0.013689700130378096"
        ]
       ],
       "shape": {
        "columns": 1,
        "rows": 1447
       }
      },
      "text/plain": [
       "GEOGRAPHY_CODE\n",
       "E01005410    0.000668\n",
       "E01005414    0.001498\n",
       "E01005448    0.057352\n",
       "E01005561    0.004954\n",
       "E01006881    0.010497\n",
       "               ...   \n",
       "E01035050    0.090965\n",
       "E01035051    0.045877\n",
       "E01035052    0.037216\n",
       "E01035053    0.016110\n",
       "E01035054    0.039875\n",
       "Length: 1447, dtype: float64"
      ]
     },
     "execution_count": 18,
     "metadata": {},
     "output_type": "execute_result"
    }
   ],
   "source": [
    "# e.g. compare proportion of Black people in community to stop-and-search incidences\n",
    "\n",
    "data[\"is_black\"] = data.C2021_ETH_20_NAME.str.contains(\"Black\")\n",
    "lsoa_totals = data.groupby([\"GEOGRAPHY_CODE\", \"is_black\"]).OBS_VALUE.sum().unstack(level=\"is_black\")\n",
    "\n",
    "proportion = lsoa_totals.apply(lambda r: r[True] / r.sum(), axis=1)\n",
    "proportion"
   ]
  }
 ],
 "metadata": {
  "kernelspec": {
   "display_name": "safer-streets",
   "language": "python",
   "name": "python3"
  },
  "language_info": {
   "codemirror_mode": {
    "name": "ipython",
    "version": 3
   },
   "file_extension": ".py",
   "mimetype": "text/x-python",
   "name": "python",
   "nbconvert_exporter": "python",
   "pygments_lexer": "ipython3",
   "version": "3.13.3"
  }
 },
 "nbformat": 4,
 "nbformat_minor": 5
}
