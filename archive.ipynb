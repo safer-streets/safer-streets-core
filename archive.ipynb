{
 "cells": [
  {
   "cell_type": "code",
   "execution_count": 1,
   "id": "2330cb5c",
   "metadata": {},
   "outputs": [],
   "source": [
    "%load_ext autoreload\n",
    "%autoreload 2"
   ]
  },
  {
   "cell_type": "code",
   "execution_count": 2,
   "id": "7f83c29f",
   "metadata": {},
   "outputs": [],
   "source": [
    "from itertools import pairwise\n",
    "\n",
    "from utils import Month, MonthIter\n",
    "\n",
    "m = MonthIter(Month(2020, 4))\n",
    "\n",
    "from utils import extract_monthly_crime_data"
   ]
  },
  {
   "cell_type": "code",
   "execution_count": 5,
   "id": "28f0e25c",
   "metadata": {},
   "outputs": [
    {
     "name": "stdout",
     "output_type": "stream",
     "text": [
      "2025-04 2025-03\n",
      "2025-04-west-yorkshire-street\n"
     ]
    },
    {
     "data": {
      "text/plain": [
       "ValueError('No crime data available for West Yorkshire in 2025-04')"
      ]
     },
     "execution_count": 5,
     "metadata": {},
     "output_type": "execute_result"
    }
   ],
   "source": [
    "\n",
    "extract_monthly_crime_data(\"West Yorkshire\", Month(2022, 4))\n",
    "\n",
    "# Month(2022, 4) < month\n",
    "# Month(2022, 4) < Month(2022, 5)"
   ]
  },
  {
   "cell_type": "code",
   "execution_count": null,
   "id": "dad49301",
   "metadata": {},
   "outputs": [
    {
     "data": {
      "text/plain": [
       "2023-03"
      ]
     },
     "execution_count": 93,
     "metadata": {},
     "output_type": "execute_result"
    }
   ],
   "source": [
    "\n",
    "# print(list(MonthIter(Month(2022, 5), end=Month(2025, 4))))\n",
    "\n",
    "# list(pairwise(str(next(m)) for _ in range(12)))\n",
    "\n",
    "\n",
    "list(next(m) for _ in range(36))[-1]\n",
    "# a = next(m)\n",
    "# print(type(a), a)\n",
    "# b = str(next(m))\n",
    "# print(type(b), b)\n",
    "\n",
    "# list(islice(m, 1))"
   ]
  },
  {
   "cell_type": "code",
   "execution_count": null,
   "id": "33c490cf",
   "metadata": {},
   "outputs": [],
   "source": []
  }
 ],
 "metadata": {
  "kernelspec": {
   "display_name": "safer-streets",
   "language": "python",
   "name": "python3"
  },
  "language_info": {
   "codemirror_mode": {
    "name": "ipython",
    "version": 3
   },
   "file_extension": ".py",
   "mimetype": "text/x-python",
   "name": "python",
   "nbconvert_exporter": "python",
   "pygments_lexer": "ipython3",
   "version": "3.13.3"
  }
 },
 "nbformat": 4,
 "nbformat_minor": 5
}
