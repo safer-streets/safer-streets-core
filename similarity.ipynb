{
 "cells": [
  {
   "cell_type": "markdown",
   "id": "b4bd7bfb",
   "metadata": {},
   "source": [
    "# Similarity measures"
   ]
  },
  {
   "cell_type": "markdown",
   "id": "c4313da9",
   "metadata": {},
   "source": [
    "## Temporal: 2d Kolmogorov-Smirnov test on unaggregated point data"
   ]
  },
  {
   "cell_type": "code",
   "execution_count": 1,
   "id": "5f03d4c8",
   "metadata": {},
   "outputs": [],
   "source": [
    "%load_ext autoreload\n",
    "%autoreload 2"
   ]
  },
  {
   "cell_type": "code",
   "execution_count": 3,
   "id": "0447f1d6",
   "metadata": {},
   "outputs": [],
   "source": [
    "from collections import defaultdict\n",
    "from itertools import pairwise\n",
    "\n",
    "import geopandas as gpd\n",
    "import matplotlib.pyplot as plt\n",
    "import numpy as np\n",
    "import pandas as pd\n",
    "from humanleague import SobolSequence\n",
    "from ndtest import ks2d2s\n",
    "from shapely import Point\n",
    "\n",
    "from spatial import SpatialUnit, get_force_boundary, map_to_spatial_unit\n",
    "from utils import (\n",
    "    CATEGORIES,\n",
    "    calc_gini,\n",
    "    extract_crime_data,\n",
    "    lorenz_curve,\n",
    "    spearman_rank_correlation_matrix,\n",
    "    tokenize_force_name,\n",
    ")\n"
   ]
  },
  {
   "cell_type": "code",
   "execution_count": 4,
   "id": "41f2cac1",
   "metadata": {},
   "outputs": [],
   "source": [
    "FORCE = \"West Yorkshire\"\n",
    "CATEGORY = CATEGORIES[1]  # ASB\n",
    "OBSERVATION_WINDOW = 3  # months\n",
    "AREA: SpatialUnit = \"STREET\"\n",
    "AREA_PARAMETERS = defaultdict(\n",
    "    dict,\n",
    "    {\n",
    "        \"LSOA\": {\"resolution\": \"GC\"},\n",
    "        \"GRID\": {\"size\": 500.0},\n",
    "        \"HEX\": {\"resolution\": 8},\n",
    "    },\n",
    ")"
   ]
  },
  {
   "cell_type": "code",
   "execution_count": 5,
   "id": "d1183dcb",
   "metadata": {},
   "outputs": [
    {
     "data": {
      "text/html": [
       "<div>\n",
       "<style scoped>\n",
       "    .dataframe tbody tr th:only-of-type {\n",
       "        vertical-align: middle;\n",
       "    }\n",
       "\n",
       "    .dataframe tbody tr th {\n",
       "        vertical-align: top;\n",
       "    }\n",
       "\n",
       "    .dataframe thead th {\n",
       "        text-align: right;\n",
       "    }\n",
       "</style>\n",
       "<table border=\"1\" class=\"dataframe\">\n",
       "  <thead>\n",
       "    <tr style=\"text-align: right;\">\n",
       "      <th></th>\n",
       "      <th>Month</th>\n",
       "      <th>Reported by</th>\n",
       "      <th>Falls within</th>\n",
       "      <th>Location</th>\n",
       "      <th>LSOA code</th>\n",
       "      <th>LSOA name</th>\n",
       "      <th>Crime type</th>\n",
       "      <th>geometry</th>\n",
       "    </tr>\n",
       "    <tr>\n",
       "      <th>Crime ID</th>\n",
       "      <th></th>\n",
       "      <th></th>\n",
       "      <th></th>\n",
       "      <th></th>\n",
       "      <th></th>\n",
       "      <th></th>\n",
       "      <th></th>\n",
       "      <th></th>\n",
       "    </tr>\n",
       "  </thead>\n",
       "  <tbody>\n",
       "    <tr>\n",
       "      <th>NaN</th>\n",
       "      <td>2022-05</td>\n",
       "      <td>West Yorkshire Police</td>\n",
       "      <td>West Yorkshire Police</td>\n",
       "      <td>On or near Queen'S Gardens</td>\n",
       "      <td>E01010692</td>\n",
       "      <td>Bradford 001D</td>\n",
       "      <td>Anti-social behaviour</td>\n",
       "      <td>POINT (411354.013 447133.948)</td>\n",
       "    </tr>\n",
       "    <tr>\n",
       "      <th>NaN</th>\n",
       "      <td>2022-05</td>\n",
       "      <td>West Yorkshire Police</td>\n",
       "      <td>West Yorkshire Police</td>\n",
       "      <td>On or near Bus/Coach Station</td>\n",
       "      <td>E01010692</td>\n",
       "      <td>Bradford 001D</td>\n",
       "      <td>Anti-social behaviour</td>\n",
       "      <td>POINT (411854.969 447613.948)</td>\n",
       "    </tr>\n",
       "    <tr>\n",
       "      <th>NaN</th>\n",
       "      <td>2022-05</td>\n",
       "      <td>West Yorkshire Police</td>\n",
       "      <td>West Yorkshire Police</td>\n",
       "      <td>On or near Wells Road</td>\n",
       "      <td>E01010692</td>\n",
       "      <td>Bradford 001D</td>\n",
       "      <td>Anti-social behaviour</td>\n",
       "      <td>POINT (411758.03 447302.948)</td>\n",
       "    </tr>\n",
       "    <tr>\n",
       "      <th>NaN</th>\n",
       "      <td>2022-05</td>\n",
       "      <td>West Yorkshire Police</td>\n",
       "      <td>West Yorkshire Police</td>\n",
       "      <td>On or near Bus/Coach Station</td>\n",
       "      <td>E01010692</td>\n",
       "      <td>Bradford 001D</td>\n",
       "      <td>Anti-social behaviour</td>\n",
       "      <td>POINT (411854.969 447613.948)</td>\n",
       "    </tr>\n",
       "    <tr>\n",
       "      <th>NaN</th>\n",
       "      <td>2022-05</td>\n",
       "      <td>West Yorkshire Police</td>\n",
       "      <td>West Yorkshire Police</td>\n",
       "      <td>On or near Springs Lane</td>\n",
       "      <td>E01010691</td>\n",
       "      <td>Bradford 002A</td>\n",
       "      <td>Anti-social behaviour</td>\n",
       "      <td>POINT (412391.978 447481.039)</td>\n",
       "    </tr>\n",
       "    <tr>\n",
       "      <th>...</th>\n",
       "      <td>...</td>\n",
       "      <td>...</td>\n",
       "      <td>...</td>\n",
       "      <td>...</td>\n",
       "      <td>...</td>\n",
       "      <td>...</td>\n",
       "      <td>...</td>\n",
       "      <td>...</td>\n",
       "    </tr>\n",
       "    <tr>\n",
       "      <th>NaN</th>\n",
       "      <td>2025-04</td>\n",
       "      <td>West Yorkshire Police</td>\n",
       "      <td>West Yorkshire Police</td>\n",
       "      <td>On or near John Street</td>\n",
       "      <td>E01011863</td>\n",
       "      <td>Wakefield 044D</td>\n",
       "      <td>Anti-social behaviour</td>\n",
       "      <td>POINT (446750.007 410878.044)</td>\n",
       "    </tr>\n",
       "    <tr>\n",
       "      <th>NaN</th>\n",
       "      <td>2025-04</td>\n",
       "      <td>West Yorkshire Police</td>\n",
       "      <td>West Yorkshire Police</td>\n",
       "      <td>On or near Beech Street</td>\n",
       "      <td>E01011863</td>\n",
       "      <td>Wakefield 044D</td>\n",
       "      <td>Anti-social behaviour</td>\n",
       "      <td>POINT (446414.024 410431.008)</td>\n",
       "    </tr>\n",
       "    <tr>\n",
       "      <th>NaN</th>\n",
       "      <td>2025-04</td>\n",
       "      <td>West Yorkshire Police</td>\n",
       "      <td>West Yorkshire Police</td>\n",
       "      <td>On or near Princess Avenue</td>\n",
       "      <td>E01011863</td>\n",
       "      <td>Wakefield 044D</td>\n",
       "      <td>Anti-social behaviour</td>\n",
       "      <td>POINT (446666.975 410800.005)</td>\n",
       "    </tr>\n",
       "    <tr>\n",
       "      <th>NaN</th>\n",
       "      <td>2025-04</td>\n",
       "      <td>West Yorkshire Police</td>\n",
       "      <td>West Yorkshire Police</td>\n",
       "      <td>On or near Beamshaw</td>\n",
       "      <td>E01011866</td>\n",
       "      <td>Wakefield 045B</td>\n",
       "      <td>Anti-social behaviour</td>\n",
       "      <td>POINT (444840.023 410291.97)</td>\n",
       "    </tr>\n",
       "    <tr>\n",
       "      <th>NaN</th>\n",
       "      <td>2025-04</td>\n",
       "      <td>West Yorkshire Police</td>\n",
       "      <td>West Yorkshire Police</td>\n",
       "      <td>On or near Park/Open Space</td>\n",
       "      <td>E01011868</td>\n",
       "      <td>Wakefield 045C</td>\n",
       "      <td>Anti-social behaviour</td>\n",
       "      <td>POINT (444982.991 411990.995)</td>\n",
       "    </tr>\n",
       "  </tbody>\n",
       "</table>\n",
       "<p>81698 rows × 8 columns</p>\n",
       "</div>"
      ],
      "text/plain": [
       "            Month            Reported by           Falls within  \\\n",
       "Crime ID                                                          \n",
       "NaN       2022-05  West Yorkshire Police  West Yorkshire Police   \n",
       "NaN       2022-05  West Yorkshire Police  West Yorkshire Police   \n",
       "NaN       2022-05  West Yorkshire Police  West Yorkshire Police   \n",
       "NaN       2022-05  West Yorkshire Police  West Yorkshire Police   \n",
       "NaN       2022-05  West Yorkshire Police  West Yorkshire Police   \n",
       "...           ...                    ...                    ...   \n",
       "NaN       2025-04  West Yorkshire Police  West Yorkshire Police   \n",
       "NaN       2025-04  West Yorkshire Police  West Yorkshire Police   \n",
       "NaN       2025-04  West Yorkshire Police  West Yorkshire Police   \n",
       "NaN       2025-04  West Yorkshire Police  West Yorkshire Police   \n",
       "NaN       2025-04  West Yorkshire Police  West Yorkshire Police   \n",
       "\n",
       "                              Location  LSOA code       LSOA name  \\\n",
       "Crime ID                                                            \n",
       "NaN         On or near Queen'S Gardens  E01010692   Bradford 001D   \n",
       "NaN       On or near Bus/Coach Station  E01010692   Bradford 001D   \n",
       "NaN              On or near Wells Road  E01010692   Bradford 001D   \n",
       "NaN       On or near Bus/Coach Station  E01010692   Bradford 001D   \n",
       "NaN            On or near Springs Lane  E01010691   Bradford 002A   \n",
       "...                                ...        ...             ...   \n",
       "NaN             On or near John Street  E01011863  Wakefield 044D   \n",
       "NaN            On or near Beech Street  E01011863  Wakefield 044D   \n",
       "NaN         On or near Princess Avenue  E01011863  Wakefield 044D   \n",
       "NaN                On or near Beamshaw  E01011866  Wakefield 045B   \n",
       "NaN         On or near Park/Open Space  E01011868  Wakefield 045C   \n",
       "\n",
       "                     Crime type                       geometry  \n",
       "Crime ID                                                        \n",
       "NaN       Anti-social behaviour  POINT (411354.013 447133.948)  \n",
       "NaN       Anti-social behaviour  POINT (411854.969 447613.948)  \n",
       "NaN       Anti-social behaviour   POINT (411758.03 447302.948)  \n",
       "NaN       Anti-social behaviour  POINT (411854.969 447613.948)  \n",
       "NaN       Anti-social behaviour  POINT (412391.978 447481.039)  \n",
       "...                         ...                            ...  \n",
       "NaN       Anti-social behaviour  POINT (446750.007 410878.044)  \n",
       "NaN       Anti-social behaviour  POINT (446414.024 410431.008)  \n",
       "NaN       Anti-social behaviour  POINT (446666.975 410800.005)  \n",
       "NaN       Anti-social behaviour   POINT (444840.023 410291.97)  \n",
       "NaN       Anti-social behaviour  POINT (444982.991 411990.995)  \n",
       "\n",
       "[81698 rows x 8 columns]"
      ]
     },
     "execution_count": 5,
     "metadata": {},
     "output_type": "execute_result"
    }
   ],
   "source": [
    "force_boundary = get_force_boundary(FORCE)\n",
    "raw_crime_data = extract_crime_data(tokenize_force_name(FORCE))\n",
    "# filter by catgegory and remove any points\n",
    "raw_crime_data = raw_crime_data[raw_crime_data[\"Crime type\"] == CATEGORY]\n",
    "raw_crime_data = raw_crime_data[raw_crime_data.geometry.intersects(force_boundary.geometry.union_all())]\n",
    "raw_crime_data"
   ]
  },
  {
   "cell_type": "code",
   "execution_count": 15,
   "id": "cba81b7e",
   "metadata": {},
   "outputs": [
    {
     "name": "stdout",
     "output_type": "stream",
     "text": [
      "2022-05 2022-06 0.2561426415725091\n",
      "2022-06 2022-07 0.4659742139744317\n",
      "2022-07 2022-08 0.0006029021528579711\n",
      "2022-08 2022-09 0.0010153470625392101\n",
      "2022-09 2022-10 8.459414024038247e-06\n",
      "2022-10 2022-11 6.544199522617816e-05\n",
      "2022-11 2022-12 0.003429216988485616\n",
      "2022-12 2023-01 0.012794805544705473\n",
      "2023-01 2023-02 0.07153961455875862\n",
      "2023-02 2023-03 0.0018068090076377064\n",
      "2023-03 2023-04 5.264448568822736e-06\n",
      "2023-04 2023-05 0.0028045205427904446\n",
      "2023-05 2023-06 0.011035070141691406\n",
      "2023-06 2023-07 7.212892871053665e-06\n",
      "2023-07 2023-08 0.0004232256450203931\n",
      "2023-08 2023-09 0.19361805294986517\n",
      "2023-09 2023-10 3.582699819915033e-05\n",
      "2023-10 2023-11 0.20660197329686858\n",
      "2023-11 2023-12 0.15625237144703186\n",
      "2023-12 2024-01 0.05981410863322443\n",
      "2024-01 2024-02 0.28456865248558716\n",
      "2024-02 2024-03 0.005829837606174709\n",
      "2024-03 2024-04 0.04921142530752049\n",
      "2024-04 2024-05 3.387803096517559e-05\n",
      "2024-05 2024-06 9.574280995826413e-05\n",
      "2024-06 2024-07 0.015965477998002544\n",
      "2024-07 2024-08 0.0017064944821418727\n",
      "2024-08 2024-09 0.0059960365744803285\n",
      "2024-09 2024-10 0.019840125348371578\n",
      "2024-10 2024-11 0.001069010108465808\n",
      "2024-11 2024-12 6.836218116548029e-05\n",
      "2024-12 2025-01 0.0010616806828020813\n",
      "2025-01 2025-02 0.09057277246382525\n",
      "2025-02 2025-03 0.5667403359143367\n",
      "2025-03 2025-04 0.13511787416454443\n"
     ]
    },
    {
     "data": {
      "text/plain": [
       "[<matplotlib.lines.Line2D at 0x766173aadf90>]"
      ]
     },
     "execution_count": 15,
     "metadata": {},
     "output_type": "execute_result"
    },
    {
     "data": {
      "image/png": "[encoded data removed]",
      "text/plain": [
       "<Figure size 640x480 with 1 Axes>"
      ]
     },
     "metadata": {},
     "output_type": "display_data"
    }
   ],
   "source": [
    "months = sorted(raw_crime_data.Month.unique())\n",
    "sim_scores = []\n",
    "for left, right in pairwise(months):\n",
    "    points_left = raw_crime_data[raw_crime_data.Month == left].geometry\n",
    "    points_right = raw_crime_data[raw_crime_data.Month == right].geometry\n",
    "\n",
    "    sim_scores.append(\n",
    "        ks2d2s(points_left.x.to_numpy(), points_left.y.to_numpy(), points_right.x.to_numpy(), points_right.y.to_numpy())\n",
    "    )\n",
    "    print(left, right, sim_scores[-1])\n",
    "\n",
    "plt.plot(sim_scores)"
   ]
  },
  {
   "cell_type": "markdown",
   "id": "1a2b5b24",
   "metadata": {},
   "source": [
    "# Spatial: Quasirandomly sampled MSE\n",
    "\n",
    "- sample counts using 2 different spatial units and normalise (i.e. density - count/area)\n",
    "- generate a set of quasirandom sampling points\n",
    "- spatially join densities at these points and compute squared differences\n",
    "- report the mean\n",
    "\n",
    "Density is scaled to crimes per square kilometre"
   ]
  },
  {
   "cell_type": "code",
   "execution_count": null,
   "id": "a07d4b76",
   "metadata": {},
   "outputs": [
    {
     "name": "stderr",
     "output_type": "stream",
     "text": [
      "/tmp/ipykernel_217373/2979474758.py:10: FutureWarning: Calling int on a single element Series is deprecated and will raise a TypeError in the future. Use int(ser.iloc[0]) instead\n",
      "  oversample = int(N / force_boundary.area * (scale[0] * scale[1]))\n"
     ]
    },
    {
     "data": {
      "text/html": [
       "<div>\n",
       "<style scoped>\n",
       "    .dataframe tbody tr th:only-of-type {\n",
       "        vertical-align: middle;\n",
       "    }\n",
       "\n",
       "    .dataframe tbody tr th {\n",
       "        vertical-align: top;\n",
       "    }\n",
       "\n",
       "    .dataframe thead th {\n",
       "        text-align: right;\n",
       "    }\n",
       "</style>\n",
       "<table border=\"1\" class=\"dataframe\">\n",
       "  <thead>\n",
       "    <tr style=\"text-align: right;\">\n",
       "      <th></th>\n",
       "      <th>geometry</th>\n",
       "    </tr>\n",
       "  </thead>\n",
       "  <tbody>\n",
       "    <tr>\n",
       "      <th>0</th>\n",
       "      <td>POINT (420829.043 427238.254)</td>\n",
       "    </tr>\n",
       "    <tr>\n",
       "      <th>1</th>\n",
       "      <td>POINT (436912.188 414905.979)</td>\n",
       "    </tr>\n",
       "    <tr>\n",
       "      <th>2</th>\n",
       "      <td>POINT (404745.898 439570.529)</td>\n",
       "    </tr>\n",
       "    <tr>\n",
       "      <th>3</th>\n",
       "      <td>POINT (412787.471 421072.116)</td>\n",
       "    </tr>\n",
       "    <tr>\n",
       "      <th>4</th>\n",
       "      <td>POINT (444953.761 445736.666)</td>\n",
       "    </tr>\n",
       "    <tr>\n",
       "      <th>...</th>\n",
       "      <td>...</td>\n",
       "    </tr>\n",
       "    <tr>\n",
       "      <th>9984</th>\n",
       "      <td>POINT (393127.239 427921.707)</td>\n",
       "    </tr>\n",
       "    <tr>\n",
       "      <th>9985</th>\n",
       "      <td>POINT (427303.923 429463.242)</td>\n",
       "    </tr>\n",
       "    <tr>\n",
       "      <th>9986</th>\n",
       "      <td>POINT (443387.068 417130.967)</td>\n",
       "    </tr>\n",
       "    <tr>\n",
       "      <th>9987</th>\n",
       "      <td>POINT (411220.777 441795.517)</td>\n",
       "    </tr>\n",
       "    <tr>\n",
       "      <th>9988</th>\n",
       "      <td>POINT (419262.35 423297.104)</td>\n",
       "    </tr>\n",
       "  </tbody>\n",
       "</table>\n",
       "<p>9989 rows × 1 columns</p>\n",
       "</div>"
      ],
      "text/plain": [
       "                           geometry\n",
       "0     POINT (420829.043 427238.254)\n",
       "1     POINT (436912.188 414905.979)\n",
       "2     POINT (404745.898 439570.529)\n",
       "3     POINT (412787.471 421072.116)\n",
       "4     POINT (444953.761 445736.666)\n",
       "...                             ...\n",
       "9984  POINT (393127.239 427921.707)\n",
       "9985  POINT (427303.923 429463.242)\n",
       "9986  POINT (443387.068 417130.967)\n",
       "9987  POINT (411220.777 441795.517)\n",
       "9988   POINT (419262.35 423297.104)\n",
       "\n",
       "[9989 rows x 1 columns]"
      ]
     },
     "execution_count": 6,
     "metadata": {},
     "output_type": "execute_result"
    }
   ],
   "source": []
  },
  {
   "cell_type": "code",
   "execution_count": null,
   "id": "4dc10aa3",
   "metadata": {},
   "outputs": [
    {
     "name": "stderr",
     "output_type": "stream",
     "text": [
      "/tmp/ipykernel_217373/3449193418.py:4: FutureWarning: Downcasting object dtype arrays on .fillna, .ffill, .bfill is deprecated and will change in a future version. Call result.infer_objects(copy=False) instead. To opt-in to the future behavior, set `pd.set_option('future.no_silent_downcasting', True)`\n",
      "  crime_data1 = spatial_units1.join(crime_data1.groupby(\"spatial_unit\").size().rename(\"count\")).fillna(0)\n",
      "/tmp/ipykernel_217373/3449193418.py:9: FutureWarning: Downcasting object dtype arrays on .fillna, .ffill, .bfill is deprecated and will change in a future version. Call result.infer_objects(copy=False) instead. To opt-in to the future behavior, set `pd.set_option('future.no_silent_downcasting', True)`\n",
      "  crime_data2 = spatial_units2.join(crime_data2.groupby(\"spatial_unit\").size().rename(\"count\")).fillna(0)\n"
     ]
    }
   ],
   "source": [
    "# Aggregate onto two different grids\n",
    "\n",
    "crime_data1, spatial_units1 = map_to_spatial_unit(raw_crime_data, force_boundary, \"GRID\", size=500.0)\n",
    "crime_data1 = spatial_units1.join(crime_data1.groupby(\"spatial_unit\").size().rename(\"count\")).fillna(0)\n",
    "crime_data1[\"density\"] = crime_data1[\"count\"] / crime_data1.area\n",
    "# crime_data1.sort_values(by=\"density\", ascending=False)\n",
    "\n",
    "crime_data2, spatial_units2 = map_to_spatial_unit(raw_crime_data, force_boundary, \"GRID\", size=500.0)\n",
    "crime_data2 = spatial_units2.join(crime_data2.groupby(\"spatial_unit\").size().rename(\"count\")).fillna(0)\n",
    "crime_data2[\"density\"] = crime_data2[\"count\"] / crime_data2.area\n",
    "# crime_data2.sort_values(by=\"density\", ascending=False)"
   ]
  },
  {
   "cell_type": "code",
   "execution_count": 39,
   "id": "58c627ef",
   "metadata": {},
   "outputs": [
    {
     "name": "stderr",
     "output_type": "stream",
     "text": [
      "/tmp/ipykernel_217373/4125358874.py:9: FutureWarning: Calling int on a single element Series is deprecated and will raise a TypeError in the future. Use int(ser.iloc[0]) instead\n",
      "  oversample = int(n_points / force_boundary.area * (scale[0] * scale[1]))\n"
     ]
    },
    {
     "data": {
      "text/plain": [
       "np.float64(60.98329341588812)"
      ]
     },
     "execution_count": 39,
     "metadata": {},
     "output_type": "execute_result"
    }
   ],
   "source": [
    "def generate_sample_points(sample_region: gpd.GeoDataFrame, n_points: int) -> gpd.GeoDataFrame:\n",
    "    \"\"\"Points returned my not exactly match number requested\"\"\"\n",
    "    xmin, ymin, xmax, ymax = force_boundary.total_bounds\n",
    "\n",
    "    offset = [xmin, ymin]\n",
    "    scale = [xmax - xmin, ymax - ymin]\n",
    "\n",
    "    # work out oversample to get ~N within sample region\n",
    "    oversample = int(n_points / force_boundary.area * (scale[0] * scale[1]))\n",
    "\n",
    "    gen = SobolSequence(2)\n",
    "    sample_points = (\n",
    "        gpd.GeoDataFrame(geometry=[Point(next(gen) * scale + offset) for _ in range(oversample)], crs=\"epsg:27700\")\n",
    "        .sjoin(force_boundary[[\"geometry\"]])\n",
    "        .drop(columns=\"index_right\")\n",
    "        .reset_index(drop=True)\n",
    "    )\n",
    "    return sample_points\n",
    "\n",
    "\n",
    "def sample_rmse(sample_points: gpd.GeoDataFrame, crime_data1: gpd.GeoDataFrame, crime_data2: gpd.GeoDataFrame) -> float:\n",
    "    \"\"\"Crime data should have a 'density' column\"\"\"\n",
    "\n",
    "    sampled = sample_points.sjoin(crime_data1[[\"geometry\", \"density\"]]).rename(columns={\"index_right\": \"index1\", \"density\": \"density1\"})\n",
    "    sampled = sampled.sjoin(crime_data2[[\"geometry\", \"density\"]]).rename(columns={\"index_right\": \"index2\", \"density\": \"density2\"})\n",
    "\n",
    "    return np.sqrt(((sampled.density1 - sampled.density2) ** 2).mean())\n",
    "\n",
    "sample_points = generate_sample_points(force_boundary, 1000)\n",
    "sample_rmse(sample_points, crime_data1, crime_data2)\n"
   ]
  },
  {
   "cell_type": "code",
   "execution_count": 96,
   "id": "c11fd431",
   "metadata": {},
   "outputs": [],
   "source": [
    "areal_unit_scale = 1_000_000  # km2\n",
    "size = 900\n",
    "offsets = np.arange(0, size, size/10)\n",
    "\n",
    "crime_data1, spatial_units1 = map_to_spatial_unit(raw_crime_data, force_boundary, \"HEX\", resolution=8)\n",
    "crime_data1 = spatial_units1.join(crime_data1.groupby(\"spatial_unit\").size().rename(\"count\")).fillna(0)\n",
    "crime_data1[\"density\"] = crime_data1[\"count\"] / crime_data1.area * areal_unit_scale\n",
    "\n",
    "mses = []\n",
    "for offset in offsets[1:]:\n",
    "    crime_data2, spatial_units2 = map_to_spatial_unit(raw_crime_data, force_boundary, \"HEX\", resolution=8, offset=(offset, 0))\n",
    "    crime_data2 = spatial_units2.join(crime_data2.groupby(\"spatial_unit\").size().rename(\"count\")).fillna(0)\n",
    "    crime_data2[\"density\"] = crime_data2[\"count\"] / crime_data2.area * areal_unit_scale\n",
    "    mses.append(sample_rmse(sample_points, crime_data1, crime_data2)\n",
    ")"
   ]
  },
  {
   "cell_type": "code",
   "execution_count": 97,
   "id": "b123d870",
   "metadata": {},
   "outputs": [
    {
     "data": {
      "text/plain": [
       "np.float64(40.2610289523752)"
      ]
     },
     "execution_count": 97,
     "metadata": {},
     "output_type": "execute_result"
    }
   ],
   "source": [
    "# overall crime density\n",
    "mean_density = (len(raw_crime_data) / force_boundary.area.sum() * 1_000_000)\n",
    "mean_density\n"
   ]
  },
  {
   "cell_type": "code",
   "execution_count": 98,
   "id": "bc6e5156",
   "metadata": {},
   "outputs": [
    {
     "data": {
      "text/plain": [
       "<matplotlib.lines.Line2D at 0x7a2bd0b80cd0>"
      ]
     },
     "execution_count": 98,
     "metadata": {},
     "output_type": "execute_result"
    },
    {
     "data": {
      "image/png": "[encoded data removed]",
      "text/plain": [
       "<Figure size 640x480 with 1 Axes>"
      ]
     },
     "metadata": {},
     "output_type": "display_data"
    }
   ],
   "source": [
    "fix, ax = plt.subplots()\n",
    "ax.plot(offsets[1:], mses, \".\")\n",
    "ax.axhline(mean_density, 0, size, c=\"r\")"
   ]
  },
  {
   "cell_type": "code",
   "execution_count": 89,
   "id": "0a232953",
   "metadata": {},
   "outputs": [
    {
     "data": {
      "text/plain": [
       "np.float64(808.1439583524908)"
      ]
     },
     "execution_count": 89,
     "metadata": {},
     "output_type": "execute_result"
    }
   ],
   "source": [
    "np.sqrt(spatial_units1.area.mean())"
   ]
  }
 ],
 "metadata": {
  "kernelspec": {
   "display_name": "safer-streets",
   "language": "python",
   "name": "python3"
  },
  "language_info": {
   "codemirror_mode": {
    "name": "ipython",
    "version": 3
   },
   "file_extension": ".py",
   "mimetype": "text/x-python",
   "name": "python",
   "nbconvert_exporter": "python",
   "pygments_lexer": "ipython3",
   "version": "3.13.3"
  }
 },
 "nbformat": 4,
 "nbformat_minor": 5
}
